{
 "cells": [
  {
   "cell_type": "markdown",
   "id": "0b830328",
   "metadata": {
    "panel-layout": {
     "height": 60.59375,
     "visible": true,
     "width": 100
    }
   },
   "source": [
    "![HeathCare_Analysis_Cover_Image](images/cover_images.jpeg)"
   ]
  },
  {
   "cell_type": "markdown",
   "id": "19a9bc22-aef4-40c9-87f9-8613d14bb064",
   "metadata": {},
   "source": [
    "# HEALTHCARE DATA ANALYSIS "
   ]
  },
  {
   "cell_type": "markdown",
   "id": "9ba3e23c-0a24-4eb0-9e91-16dd07a01313",
   "metadata": {
    "panel-layout": {
     "height": 104.953125,
     "visible": true,
     "width": 100
    }
   },
   "source": [
    "## 1.0 BUSINESS UNDERSTANDING\n",
    "\n",
    "### PROBLEM STATEMENT\n",
    "### OBJECTIVES\n",
    "\n"
   ]
  },
  {
   "cell_type": "markdown",
   "id": "36c27b53-972c-4f60-ad84-2f225bbea781",
   "metadata": {
    "panel-layout": {
     "height": 50.796875,
     "visible": true,
     "width": 100
    }
   },
   "source": [
    "## 2.0 DATA UNDERSTANDING\n",
    "\n",
    "Data was gotten from safra data"
   ]
  },
  {
   "cell_type": "code",
   "execution_count": 5,
   "id": "1c7373d8-1a2f-4ed1-aa79-8378f69e0af4",
   "metadata": {},
   "outputs": [],
   "source": [
    "#Importing python libraries\n",
    "import os\n",
    "import pandas as pd\n",
    "from classes import *\n",
    "from datetime import datetime\n",
    "from IPython.display import display, HTML\n",
    "\n",
    "# libraries for visualization\n",
    "import seaborn as sns\n",
    "import matplotlib.pyplot as plt\n",
    "%matplotlib inline\n"
   ]
  },
  {
   "cell_type": "markdown",
   "id": "12e14b28-98b2-4042-a340-5b827e890e21",
   "metadata": {},
   "source": [
    "***\n",
    "## 3.0 DATA PREPARATION\n",
    "***\n",
    "The following steps in summary shall be followed in the data preparation stages\n",
    "\n",
    "**1. Data Loading**      \n",
    "- Load the Dataset\n",
    "         \n",
    "- Inspect the Dataset\n",
    "     \n",
    "**2. Data Cleaning**\n",
    " \n",
    "- Validity Check\n",
    "\n",
    "- Consistency Check\n",
    "\n",
    "- Uniformity Check\n",
    "\n",
    "- Completeness Check\n",
    "\n",
    "**3. Feature Engineering**\n",
    "\n",
    "- Splitting insurer Column\n",
    "\n",
    "- Splitting month columns"
   ]
  },
  {
   "cell_type": "markdown",
   "id": "a09066f6-cf62-4790-9e11-ffad1a5deb5a",
   "metadata": {},
   "source": [
    "***\n",
    "### 3.1 DATA LOADING\n",
    "***\n",
    "The following was carried out \n",
    "1. Loading the Datasets\n",
    "         \n",
    "2. Inspecting the Data"
   ]
  },
  {
   "cell_type": "code",
   "execution_count": 8,
   "id": "8885c27b",
   "metadata": {
    "panel-layout": {
     "height": 1141.203125,
     "visible": true,
     "width": 100
    }
   },
   "outputs": [
    {
     "name": "stdout",
     "output_type": "stream",
     "text": [
      "========================================\n",
      "Shape of the dataset : (6158, 31) \n",
      "========================================\n",
      "\n",
      "========================================\n",
      "Column Names\n",
      "========================================\n",
      "Index(['Location', '_Location_latitude', '_Location_longitude',\n",
      "       '_Location_altitude', '_Location_precision', 'Date and Time', 'Age',\n",
      "       'Gender', 'Marital Status', 'How many children do you have, if any?',\n",
      "       'Employment Status', 'Monthly Household Income',\n",
      "       'Have you ever had health insurance?', 'If yes, which insurance cover?',\n",
      "       'When was the last time you visited a hospital for medical treatment? (In Months)',\n",
      "       'Did you have health insurance during your last hospital visit?',\n",
      "       'Have you ever had a routine check-up with a doctor or healthcare provider?',\n",
      "       'If you answered yes to the previous question, what time period (in years) do you stay before having your routine check-up?',\n",
      "       'Have you ever had a cancer screening (e.g. mammogram, colonoscopy, etc.)?',\n",
      "       'If you answered yes to the previous question, what time period (in years) do you stay before having your Cancer screening?',\n",
      "       'Your Picture', 'Your Picture_URL', '_id', '_uuid', '_submission_time',\n",
      "       '_validation_status', '_notes', '_status', '_submitted_by',\n",
      "       '__version__', '_tags'],\n",
      "      dtype='object') \n",
      " \n",
      "========================================\n",
      "Range of the Dataset (Date and Time)\n",
      "========================================\n",
      "Start Date: 2023-05-15 08:35:00\n",
      "End Date:   2023-07-27 12:00:00\n",
      "\n",
      "\n",
      "========================================\n",
      "Numerical Columns\n",
      "========================================\n",
      "Index(['_Location_latitude', '_Location_longitude', '_Location_altitude',\n",
      "       '_Location_precision', 'How many children do you have, if any?',\n",
      "       'When was the last time you visited a hospital for medical treatment? (In Months)',\n",
      "       'Your Picture', 'Your Picture_URL', '_id', '_validation_status',\n",
      "       '_notes', '_tags'],\n",
      "      dtype='object')\n",
      "\n",
      "========================================\n",
      "Categorical Columns\n",
      "========================================\n",
      "Index(['Location', 'Age', 'Gender', 'Marital Status', 'Employment Status',\n",
      "       'Monthly Household Income', 'Have you ever had health insurance?',\n",
      "       'If yes, which insurance cover?',\n",
      "       'Did you have health insurance during your last hospital visit?',\n",
      "       'Have you ever had a routine check-up with a doctor or healthcare provider?',\n",
      "       'If you answered yes to the previous question, what time period (in years) do you stay before having your routine check-up?',\n",
      "       'Have you ever had a cancer screening (e.g. mammogram, colonoscopy, etc.)?',\n",
      "       'If you answered yes to the previous question, what time period (in years) do you stay before having your Cancer screening?',\n",
      "       '_uuid', '_status', '_submitted_by', '__version__'],\n",
      "      dtype='object')\n",
      "\n",
      "========================================\n",
      "Data Summary\n",
      "========================================\n",
      "<class 'pandas.core.frame.DataFrame'>\n",
      "Index: 6158 entries, 1 to 6158\n",
      "Data columns (total 31 columns):\n",
      " #   Column                                                                                                                      Non-Null Count  Dtype         \n",
      "---  ------                                                                                                                      --------------  -----         \n",
      " 0   Location                                                                                                                    5805 non-null   object        \n",
      " 1   _Location_latitude                                                                                                          5805 non-null   float64       \n",
      " 2   _Location_longitude                                                                                                         5805 non-null   float64       \n",
      " 3   _Location_altitude                                                                                                          5805 non-null   float64       \n",
      " 4   _Location_precision                                                                                                         5805 non-null   float64       \n",
      " 5   Date and Time                                                                                                               6010 non-null   datetime64[ns]\n",
      " 6   Age                                                                                                                         6140 non-null   object        \n",
      " 7   Gender                                                                                                                      6141 non-null   object        \n",
      " 8   Marital Status                                                                                                              6140 non-null   object        \n",
      " 9   How many children do you have, if any?                                                                                      5533 non-null   float64       \n",
      " 10  Employment Status                                                                                                           6134 non-null   object        \n",
      " 11  Monthly Household Income                                                                                                    5899 non-null   object        \n",
      " 12  Have you ever had health insurance?                                                                                         6139 non-null   object        \n",
      " 13  If yes, which insurance cover?                                                                                              3618 non-null   object        \n",
      " 14  When was the last time you visited a hospital for medical treatment? (In Months)                                            6000 non-null   float64       \n",
      " 15  Did you have health insurance during your last hospital visit?                                                              6102 non-null   object        \n",
      " 16  Have you ever had a routine check-up with a doctor or healthcare provider?                                                  6135 non-null   object        \n",
      " 17  If you answered yes to the previous question, what time period (in years) do you stay before having your routine check-up?  1776 non-null   object        \n",
      " 18  Have you ever had a cancer screening (e.g. mammogram, colonoscopy, etc.)?                                                   6127 non-null   object        \n",
      " 19  If you answered yes to the previous question, what time period (in years) do you stay before having your Cancer screening?  1565 non-null   object        \n",
      " 20  Your Picture                                                                                                                0 non-null      float64       \n",
      " 21  Your Picture_URL                                                                                                            0 non-null      float64       \n",
      " 22  _id                                                                                                                         6158 non-null   int64         \n",
      " 23  _uuid                                                                                                                       6158 non-null   object        \n",
      " 24  _submission_time                                                                                                            6158 non-null   datetime64[ns]\n",
      " 25  _validation_status                                                                                                          0 non-null      float64       \n",
      " 26  _notes                                                                                                                      0 non-null      float64       \n",
      " 27  _status                                                                                                                     6158 non-null   object        \n",
      " 28  _submitted_by                                                                                                               6157 non-null   object        \n",
      " 29  __version__                                                                                                                 6158 non-null   object        \n",
      " 30  _tags                                                                                                                       0 non-null      float64       \n",
      "dtypes: datetime64[ns](2), float64(11), int64(1), object(17)\n",
      "memory usage: 1.5+ MB\n",
      "========================================\n",
      "\n",
      "========================================\n",
      "Descriptive Statistics\n",
      "========================================\n"
     ]
    },
    {
     "data": {
      "text/html": [
       "<div>\n",
       "<style scoped>\n",
       "    .dataframe tbody tr th:only-of-type {\n",
       "        vertical-align: middle;\n",
       "    }\n",
       "\n",
       "    .dataframe tbody tr th {\n",
       "        vertical-align: top;\n",
       "    }\n",
       "\n",
       "    .dataframe thead th {\n",
       "        text-align: right;\n",
       "    }\n",
       "</style>\n",
       "<table border=\"1\" class=\"dataframe\">\n",
       "  <thead>\n",
       "    <tr style=\"text-align: right;\">\n",
       "      <th></th>\n",
       "      <th>_Location_latitude</th>\n",
       "      <th>_Location_longitude</th>\n",
       "      <th>_Location_altitude</th>\n",
       "      <th>_Location_precision</th>\n",
       "      <th>Date and Time</th>\n",
       "      <th>How many children do you have, if any?</th>\n",
       "      <th>When was the last time you visited a hospital for medical treatment? (In Months)</th>\n",
       "      <th>Your Picture</th>\n",
       "      <th>Your Picture_URL</th>\n",
       "      <th>_id</th>\n",
       "      <th>_submission_time</th>\n",
       "      <th>_validation_status</th>\n",
       "      <th>_notes</th>\n",
       "      <th>_tags</th>\n",
       "    </tr>\n",
       "  </thead>\n",
       "  <tbody>\n",
       "    <tr>\n",
       "      <th>count</th>\n",
       "      <td>5805.000000</td>\n",
       "      <td>5805.000000</td>\n",
       "      <td>5805.000000</td>\n",
       "      <td>5805.000000</td>\n",
       "      <td>6010</td>\n",
       "      <td>5533.000000</td>\n",
       "      <td>6000.000000</td>\n",
       "      <td>0.0</td>\n",
       "      <td>0.0</td>\n",
       "      <td>6.158000e+03</td>\n",
       "      <td>6158</td>\n",
       "      <td>0.0</td>\n",
       "      <td>0.0</td>\n",
       "      <td>0.0</td>\n",
       "    </tr>\n",
       "    <tr>\n",
       "      <th>mean</th>\n",
       "      <td>-0.737841</td>\n",
       "      <td>36.715208</td>\n",
       "      <td>1536.439555</td>\n",
       "      <td>71.217272</td>\n",
       "      <td>2023-06-23 12:19:03.484193280</td>\n",
       "      <td>147.165371</td>\n",
       "      <td>6.651875</td>\n",
       "      <td>NaN</td>\n",
       "      <td>NaN</td>\n",
       "      <td>2.482603e+08</td>\n",
       "      <td>2023-06-25 04:21:26.056349440</td>\n",
       "      <td>NaN</td>\n",
       "      <td>NaN</td>\n",
       "      <td>NaN</td>\n",
       "    </tr>\n",
       "    <tr>\n",
       "      <th>min</th>\n",
       "      <td>-4.051936</td>\n",
       "      <td>34.092111</td>\n",
       "      <td>-201.295000</td>\n",
       "      <td>0.000000</td>\n",
       "      <td>2023-05-15 08:35:00</td>\n",
       "      <td>0.000000</td>\n",
       "      <td>0.000000</td>\n",
       "      <td>NaN</td>\n",
       "      <td>NaN</td>\n",
       "      <td>2.301624e+08</td>\n",
       "      <td>2023-04-05 08:44:06</td>\n",
       "      <td>NaN</td>\n",
       "      <td>NaN</td>\n",
       "      <td>NaN</td>\n",
       "    </tr>\n",
       "    <tr>\n",
       "      <th>25%</th>\n",
       "      <td>-1.259315</td>\n",
       "      <td>36.379644</td>\n",
       "      <td>1348.900024</td>\n",
       "      <td>4.100000</td>\n",
       "      <td>2023-06-16 10:18:30</td>\n",
       "      <td>1.000000</td>\n",
       "      <td>2.000000</td>\n",
       "      <td>NaN</td>\n",
       "      <td>NaN</td>\n",
       "      <td>2.469582e+08</td>\n",
       "      <td>2023-06-19 10:27:25.750000128</td>\n",
       "      <td>NaN</td>\n",
       "      <td>NaN</td>\n",
       "      <td>NaN</td>\n",
       "    </tr>\n",
       "    <tr>\n",
       "      <th>50%</th>\n",
       "      <td>-0.726425</td>\n",
       "      <td>36.866007</td>\n",
       "      <td>1592.900024</td>\n",
       "      <td>4.820000</td>\n",
       "      <td>2023-06-23 10:22:00</td>\n",
       "      <td>2.000000</td>\n",
       "      <td>4.000000</td>\n",
       "      <td>NaN</td>\n",
       "      <td>NaN</td>\n",
       "      <td>2.486249e+08</td>\n",
       "      <td>2023-06-26 09:56:12.500000</td>\n",
       "      <td>NaN</td>\n",
       "      <td>NaN</td>\n",
       "      <td>NaN</td>\n",
       "    </tr>\n",
       "    <tr>\n",
       "      <th>75%</th>\n",
       "      <td>-0.378057</td>\n",
       "      <td>37.146309</td>\n",
       "      <td>1857.600000</td>\n",
       "      <td>7.196000</td>\n",
       "      <td>2023-06-30 15:33:30</td>\n",
       "      <td>3.000000</td>\n",
       "      <td>8.000000</td>\n",
       "      <td>NaN</td>\n",
       "      <td>NaN</td>\n",
       "      <td>2.499817e+08</td>\n",
       "      <td>2023-07-03 13:40:47</td>\n",
       "      <td>NaN</td>\n",
       "      <td>NaN</td>\n",
       "      <td>NaN</td>\n",
       "    </tr>\n",
       "    <tr>\n",
       "      <th>max</th>\n",
       "      <td>1.842157</td>\n",
       "      <td>39.692109</td>\n",
       "      <td>2988.477000</td>\n",
       "      <td>4900.000000</td>\n",
       "      <td>2023-07-27 12:00:00</td>\n",
       "      <td>800159.000000</td>\n",
       "      <td>2021.000000</td>\n",
       "      <td>NaN</td>\n",
       "      <td>NaN</td>\n",
       "      <td>2.584794e+08</td>\n",
       "      <td>2023-08-07 09:12:14</td>\n",
       "      <td>NaN</td>\n",
       "      <td>NaN</td>\n",
       "      <td>NaN</td>\n",
       "    </tr>\n",
       "    <tr>\n",
       "      <th>std</th>\n",
       "      <td>0.870519</td>\n",
       "      <td>0.866878</td>\n",
       "      <td>494.157138</td>\n",
       "      <td>388.100302</td>\n",
       "      <td>NaN</td>\n",
       "      <td>10757.084650</td>\n",
       "      <td>37.295530</td>\n",
       "      <td>NaN</td>\n",
       "      <td>NaN</td>\n",
       "      <td>2.565886e+06</td>\n",
       "      <td>NaN</td>\n",
       "      <td>NaN</td>\n",
       "      <td>NaN</td>\n",
       "      <td>NaN</td>\n",
       "    </tr>\n",
       "  </tbody>\n",
       "</table>\n",
       "</div>"
      ],
      "text/plain": [
       "       _Location_latitude  _Location_longitude  _Location_altitude  \\\n",
       "count         5805.000000          5805.000000         5805.000000   \n",
       "mean            -0.737841            36.715208         1536.439555   \n",
       "min             -4.051936            34.092111         -201.295000   \n",
       "25%             -1.259315            36.379644         1348.900024   \n",
       "50%             -0.726425            36.866007         1592.900024   \n",
       "75%             -0.378057            37.146309         1857.600000   \n",
       "max              1.842157            39.692109         2988.477000   \n",
       "std              0.870519             0.866878          494.157138   \n",
       "\n",
       "       _Location_precision                  Date and Time  \\\n",
       "count          5805.000000                           6010   \n",
       "mean             71.217272  2023-06-23 12:19:03.484193280   \n",
       "min               0.000000            2023-05-15 08:35:00   \n",
       "25%               4.100000            2023-06-16 10:18:30   \n",
       "50%               4.820000            2023-06-23 10:22:00   \n",
       "75%               7.196000            2023-06-30 15:33:30   \n",
       "max            4900.000000            2023-07-27 12:00:00   \n",
       "std             388.100302                            NaN   \n",
       "\n",
       "       How many children do you have, if any?  \\\n",
       "count                             5533.000000   \n",
       "mean                               147.165371   \n",
       "min                                  0.000000   \n",
       "25%                                  1.000000   \n",
       "50%                                  2.000000   \n",
       "75%                                  3.000000   \n",
       "max                             800159.000000   \n",
       "std                              10757.084650   \n",
       "\n",
       "       When was the last time you visited a hospital for medical treatment? (In Months)  \\\n",
       "count                                        6000.000000                                  \n",
       "mean                                            6.651875                                  \n",
       "min                                             0.000000                                  \n",
       "25%                                             2.000000                                  \n",
       "50%                                             4.000000                                  \n",
       "75%                                             8.000000                                  \n",
       "max                                          2021.000000                                  \n",
       "std                                            37.295530                                  \n",
       "\n",
       "       Your Picture  Your Picture_URL           _id  \\\n",
       "count           0.0               0.0  6.158000e+03   \n",
       "mean            NaN               NaN  2.482603e+08   \n",
       "min             NaN               NaN  2.301624e+08   \n",
       "25%             NaN               NaN  2.469582e+08   \n",
       "50%             NaN               NaN  2.486249e+08   \n",
       "75%             NaN               NaN  2.499817e+08   \n",
       "max             NaN               NaN  2.584794e+08   \n",
       "std             NaN               NaN  2.565886e+06   \n",
       "\n",
       "                    _submission_time  _validation_status  _notes  _tags  \n",
       "count                           6158                 0.0     0.0    0.0  \n",
       "mean   2023-06-25 04:21:26.056349440                 NaN     NaN    NaN  \n",
       "min              2023-04-05 08:44:06                 NaN     NaN    NaN  \n",
       "25%    2023-06-19 10:27:25.750000128                 NaN     NaN    NaN  \n",
       "50%       2023-06-26 09:56:12.500000                 NaN     NaN    NaN  \n",
       "75%              2023-07-03 13:40:47                 NaN     NaN    NaN  \n",
       "max              2023-08-07 09:12:14                 NaN     NaN    NaN  \n",
       "std                              NaN                 NaN     NaN    NaN  "
      ]
     },
     "metadata": {},
     "output_type": "display_data"
    },
    {
     "name": "stdout",
     "output_type": "stream",
     "text": [
      "========================================\n",
      "Dataset Overview\n",
      "========================================\n"
     ]
    },
    {
     "data": {
      "text/html": [
       "<table border=\"1\" class=\"dataframe\">\n",
       "  <thead>\n",
       "    <tr style=\"text-align: right;\">\n",
       "      <th></th>\n",
       "      <th>Location</th>\n",
       "      <th>_Location_latitude</th>\n",
       "      <th>_Location_longitude</th>\n",
       "      <th>_Location_altitude</th>\n",
       "      <th>_Location_precision</th>\n",
       "      <th>Date and Time</th>\n",
       "      <th>Age</th>\n",
       "      <th>Gender</th>\n",
       "      <th>Marital Status</th>\n",
       "      <th>How many children do you have, if any?</th>\n",
       "      <th>Employment Status</th>\n",
       "      <th>Monthly Household Income</th>\n",
       "      <th>Have you ever had health insurance?</th>\n",
       "      <th>If yes, which insurance cover?</th>\n",
       "      <th>When was the last time you visited a hospital for medical treatment? (In Months)</th>\n",
       "      <th>Did you have health insurance during your last hospital visit?</th>\n",
       "      <th>Have you ever had a routine check-up with a doctor or healthcare provider?</th>\n",
       "      <th>If you answered yes to the previous question, what time period (in years) do you stay before having your routine check-up?</th>\n",
       "      <th>Have you ever had a cancer screening (e.g. mammogram, colonoscopy, etc.)?</th>\n",
       "      <th>If you answered yes to the previous question, what time period (in years) do you stay before having your Cancer screening?</th>\n",
       "      <th>Your Picture</th>\n",
       "      <th>Your Picture_URL</th>\n",
       "      <th>_id</th>\n",
       "      <th>_uuid</th>\n",
       "      <th>_submission_time</th>\n",
       "      <th>_validation_status</th>\n",
       "      <th>_notes</th>\n",
       "      <th>_status</th>\n",
       "      <th>_submitted_by</th>\n",
       "      <th>__version__</th>\n",
       "      <th>_tags</th>\n",
       "    </tr>\n",
       "    <tr>\n",
       "      <th>_index</th>\n",
       "      <th></th>\n",
       "      <th></th>\n",
       "      <th></th>\n",
       "      <th></th>\n",
       "      <th></th>\n",
       "      <th></th>\n",
       "      <th></th>\n",
       "      <th></th>\n",
       "      <th></th>\n",
       "      <th></th>\n",
       "      <th></th>\n",
       "      <th></th>\n",
       "      <th></th>\n",
       "      <th></th>\n",
       "      <th></th>\n",
       "      <th></th>\n",
       "      <th></th>\n",
       "      <th></th>\n",
       "      <th></th>\n",
       "      <th></th>\n",
       "      <th></th>\n",
       "      <th></th>\n",
       "      <th></th>\n",
       "      <th></th>\n",
       "      <th></th>\n",
       "      <th></th>\n",
       "      <th></th>\n",
       "      <th></th>\n",
       "      <th></th>\n",
       "      <th></th>\n",
       "      <th></th>\n",
       "    </tr>\n",
       "  </thead>\n",
       "  <tbody>\n",
       "    <tr>\n",
       "      <th>1</th>\n",
       "      <td>-0.2742007 36.058336 1882.2000732421875 20.0</td>\n",
       "      <td>-0.274201</td>\n",
       "      <td>36.058336</td>\n",
       "      <td>1882.200073</td>\n",
       "      <td>20.0</td>\n",
       "      <td>NaT</td>\n",
       "      <td>41-50</td>\n",
       "      <td>Female</td>\n",
       "      <td>Married</td>\n",
       "      <td>2.0</td>\n",
       "      <td>Self-employed</td>\n",
       "      <td>20001-30000</td>\n",
       "      <td>Yes</td>\n",
       "      <td>Nhif</td>\n",
       "      <td>53.0</td>\n",
       "      <td>No</td>\n",
       "      <td>Yes</td>\n",
       "      <td>2</td>\n",
       "      <td>No</td>\n",
       "      <td>2</td>\n",
       "      <td>NaN</td>\n",
       "      <td>NaN</td>\n",
       "      <td>230162389</td>\n",
       "      <td>aa30304f-84f2-4c1b-b30a-371241f2ff17</td>\n",
       "      <td>2023-04-05 08:44:06</td>\n",
       "      <td>NaN</td>\n",
       "      <td>NaN</td>\n",
       "      <td>submitted_via_web</td>\n",
       "      <td>NaN</td>\n",
       "      <td>vJ8gEKnN2pccxThc5jnkz4</td>\n",
       "      <td>NaN</td>\n",
       "    </tr>\n",
       "    <tr>\n",
       "      <th>2</th>\n",
       "      <td>-0.7158125 37.1475058 1361.9000244140625 20.0</td>\n",
       "      <td>-0.715812</td>\n",
       "      <td>37.147506</td>\n",
       "      <td>1361.900024</td>\n",
       "      <td>20.0</td>\n",
       "      <td>2023-05-15 13:38:00</td>\n",
       "      <td>18-30</td>\n",
       "      <td>Male</td>\n",
       "      <td>Single</td>\n",
       "      <td>0.0</td>\n",
       "      <td>Unemployed</td>\n",
       "      <td>Less than 10000</td>\n",
       "      <td>No</td>\n",
       "      <td>NaN</td>\n",
       "      <td>8.0</td>\n",
       "      <td>No</td>\n",
       "      <td>Yes</td>\n",
       "      <td>1</td>\n",
       "      <td>No</td>\n",
       "      <td>NaN</td>\n",
       "      <td>NaN</td>\n",
       "      <td>NaN</td>\n",
       "      <td>238299334</td>\n",
       "      <td>63c461e3-b3ef-47cf-9632-0c912a639f46</td>\n",
       "      <td>2023-05-15 10:44:01</td>\n",
       "      <td>NaN</td>\n",
       "      <td>NaN</td>\n",
       "      <td>submitted_via_web</td>\n",
       "      <td>safra_data</td>\n",
       "      <td>vMrCPR7NLZZJrf4PTsQ8uH</td>\n",
       "      <td>NaN</td>\n",
       "    </tr>\n",
       "    <tr>\n",
       "      <th>3</th>\n",
       "      <td>-0.7158157 37.1475082 1361.9000244140625 20.0</td>\n",
       "      <td>-0.715816</td>\n",
       "      <td>37.147508</td>\n",
       "      <td>1361.900024</td>\n",
       "      <td>20.0</td>\n",
       "      <td>2023-05-15 13:49:00</td>\n",
       "      <td>41-50</td>\n",
       "      <td>Female</td>\n",
       "      <td>Married</td>\n",
       "      <td>5.0</td>\n",
       "      <td>Self-employed</td>\n",
       "      <td>20001-30000</td>\n",
       "      <td>No</td>\n",
       "      <td>Nhif</td>\n",
       "      <td>6.0</td>\n",
       "      <td>Yes</td>\n",
       "      <td>No</td>\n",
       "      <td>NaN</td>\n",
       "      <td>Yes</td>\n",
       "      <td>4+</td>\n",
       "      <td>NaN</td>\n",
       "      <td>NaN</td>\n",
       "      <td>238301092</td>\n",
       "      <td>4209a55d-a983-433f-8ce0-bce6cd28d713</td>\n",
       "      <td>2023-05-15 10:51:08</td>\n",
       "      <td>NaN</td>\n",
       "      <td>NaN</td>\n",
       "      <td>submitted_via_web</td>\n",
       "      <td>safra_data</td>\n",
       "      <td>vMrCPR7NLZZJrf4PTsQ8uH</td>\n",
       "      <td>NaN</td>\n",
       "    </tr>\n",
       "    <tr>\n",
       "      <th>4</th>\n",
       "      <td>-0.7157082 37.14749 1361.9000244140625 20.0</td>\n",
       "      <td>-0.715708</td>\n",
       "      <td>37.147490</td>\n",
       "      <td>1361.900024</td>\n",
       "      <td>20.0</td>\n",
       "      <td>2023-05-15 14:19:00</td>\n",
       "      <td>18-30</td>\n",
       "      <td>Male</td>\n",
       "      <td>Single</td>\n",
       "      <td>NaN</td>\n",
       "      <td>Self-employed</td>\n",
       "      <td>10001-20000</td>\n",
       "      <td>Yes</td>\n",
       "      <td>Nhif</td>\n",
       "      <td>16.0</td>\n",
       "      <td>Yes</td>\n",
       "      <td>No</td>\n",
       "      <td>NaN</td>\n",
       "      <td>No</td>\n",
       "      <td>NaN</td>\n",
       "      <td>NaN</td>\n",
       "      <td>NaN</td>\n",
       "      <td>238311207</td>\n",
       "      <td>2eba9b13-1706-4faf-b7a7-e45e9dcf48ab</td>\n",
       "      <td>2023-05-15 11:22:19</td>\n",
       "      <td>NaN</td>\n",
       "      <td>NaN</td>\n",
       "      <td>submitted_via_web</td>\n",
       "      <td>safra_data</td>\n",
       "      <td>vMrCPR7NLZZJrf4PTsQ8uH</td>\n",
       "      <td>NaN</td>\n",
       "    </tr>\n",
       "    <tr>\n",
       "      <th>5</th>\n",
       "      <td>-0.7157337 37.1474799 1361.9000244140625 20.0</td>\n",
       "      <td>-0.715734</td>\n",
       "      <td>37.147480</td>\n",
       "      <td>1361.900024</td>\n",
       "      <td>20.0</td>\n",
       "      <td>2023-05-15 14:30:00</td>\n",
       "      <td>41-50</td>\n",
       "      <td>Male</td>\n",
       "      <td>Married</td>\n",
       "      <td>7.0</td>\n",
       "      <td>Self-employed</td>\n",
       "      <td>20001-30000</td>\n",
       "      <td>Yes</td>\n",
       "      <td>Nhif</td>\n",
       "      <td>13.0</td>\n",
       "      <td>Yes</td>\n",
       "      <td>No</td>\n",
       "      <td>NaN</td>\n",
       "      <td>Yes</td>\n",
       "      <td>4+</td>\n",
       "      <td>NaN</td>\n",
       "      <td>NaN</td>\n",
       "      <td>238314477</td>\n",
       "      <td>1f49cb82-75ff-4391-b69b-973a6ce698ee</td>\n",
       "      <td>2023-05-15 11:33:21</td>\n",
       "      <td>NaN</td>\n",
       "      <td>NaN</td>\n",
       "      <td>submitted_via_web</td>\n",
       "      <td>safra_data</td>\n",
       "      <td>vMrCPR7NLZZJrf4PTsQ8uH</td>\n",
       "      <td>NaN</td>\n",
       "    </tr>\n",
       "  </tbody>\n",
       "</table>"
      ],
      "text/plain": [
       "<IPython.core.display.HTML object>"
      ]
     },
     "metadata": {},
     "output_type": "display_data"
    }
   ],
   "source": [
    "# Instantiate the DataLoader class\n",
    "loader= DataLoader()\n",
    "\n",
    "# Reading the csv file\n",
    "df=loader.read_data(\"Healthcare Dataset.xlsx\").set_index('_index')\n",
    "\n",
    "# Instantiate the DataInfo class\n",
    "summary= DataInfo()\n",
    "\n",
    "# Summary view of the dataset information\n",
    "summary.info(df)\n",
    "\n",
    "# setting to view all columns and rows\n",
    "pd.set_option('display.max_columns', None)\n",
    "pd.set_option('display.max_rows', None)"
   ]
  },
  {
   "cell_type": "markdown",
   "id": "c8dae57b-b5dc-4701-b204-efc724c59d58",
   "metadata": {
    "panel-layout": {
     "height": 111.421875,
     "visible": true,
     "width": 100
    }
   },
   "source": [
    "**Observation**\n",
    "***\n",
    "\n",
    "- Dataset has 6158 rows and 31 columns\n",
    "- There are multiple missing values in most columns\n",
    "- Column labeling needs to be reconsidered\n"
   ]
  },
  {
   "cell_type": "markdown",
   "id": "6ed46ad0-1af3-4c29-a51b-817be2cbef15",
   "metadata": {},
   "source": [
    "***\n",
    "### 3.2 DATA CLEANING\n",
    "*** \n",
    "- Uniformity Check\n",
    "  \n",
    "- Validity Check\n",
    "\n",
    "- Consistency Check\n",
    "\n",
    "- Completeness Check\n",
    "  \n"
   ]
  },
  {
   "cell_type": "markdown",
   "id": "190de544-f6c6-4940-9585-3ddcfbb3dd17",
   "metadata": {},
   "source": [
    "***\n",
    "#### 3.2.1 UNIFORMITY CHECK\n",
    "***\n",
    "- Renaming Columns\n",
    "- Cleaning Column names"
   ]
  },
  {
   "cell_type": "code",
   "execution_count": 12,
   "id": "e550a3c6-afbc-4be0-820d-391ac39fc78c",
   "metadata": {},
   "outputs": [],
   "source": [
    "# Renaming of columns using mapping\n",
    "mapping={\n",
    "    \"How many children do you have, if any?\":\"no_of_children\",\n",
    "    \"Have you ever had health insurance?\": \"had_health_insurance?\",\n",
    "    \"If yes, which insurance cover?\":\"insurer\",\n",
    "    \"When was the last time you visited a hospital for medical treatment? (In Months) \":\"last_visit\",\n",
    "    \"Did you have health insurance during your last hospital visit?\":\"had_health_insurance_during_visit?\",\n",
    "    \"Have you ever had a routine check-up with a doctor or healthcare provider?\":\"had_routine_checkup_with_doctor\",\n",
    "    \"If you answered yes to the previous question, what time period (in years) do you stay before having your routine check-up?\":\"years_since_last_checkup\",\n",
    "    \"Have you ever had a cancer screening (e.g. mammogram, colonoscopy, etc.)?\":\"had_cancer_screening?\",\n",
    "    \"If you answered yes to the previous question, what time period (in years) do you stay before having your Cancer screening?\":\"years_since_last_cancer_screening\",\n",
    "    \"When was the last time you visited a hospital for medical treatment? (In Months)\":\"months_since_last_hospital_visit\",\n",
    "    \"_Location_latitude\":\"location_latitude\",\n",
    "    \"_Location_longitude\":\"location_longitude\",\n",
    "    \"_Location_altitude\":\"location_altitude\",\n",
    "    \"_Location_precision\":\"Location_precision\",\n",
    "    \"_submission_time\":\"submission_time\"\n",
    "\n",
    "}\n",
    "\n",
    "# Performing column replaement\n",
    "df.rename(columns=mapping, inplace= True)"
   ]
  },
  {
   "cell_type": "code",
   "execution_count": 13,
   "id": "2de7cce7-906b-4b3d-a998-202cf756013d",
   "metadata": {},
   "outputs": [
    {
     "name": "stdout",
     "output_type": "stream",
     "text": [
      "<class 'pandas.core.frame.DataFrame'>\n",
      "Index: 6158 entries, 1 to 6158\n",
      "Data columns (total 31 columns):\n",
      " #   Column                              Non-Null Count  Dtype         \n",
      "---  ------                              --------------  -----         \n",
      " 0   location                            5805 non-null   object        \n",
      " 1   location_latitude                   5805 non-null   float64       \n",
      " 2   location_longitude                  5805 non-null   float64       \n",
      " 3   location_altitude                   5805 non-null   float64       \n",
      " 4   location_precision                  5805 non-null   float64       \n",
      " 5   date_and_time                       6010 non-null   datetime64[ns]\n",
      " 6   age                                 6140 non-null   object        \n",
      " 7   gender                              6141 non-null   object        \n",
      " 8   marital_status                      6140 non-null   object        \n",
      " 9   no_of_children                      5533 non-null   float64       \n",
      " 10  employment_status                   6134 non-null   object        \n",
      " 11  monthly_household_income            5899 non-null   object        \n",
      " 12  had_health_insurance?               6139 non-null   object        \n",
      " 13  insurer                             3618 non-null   object        \n",
      " 14  months_since_last_hospital_visit    6000 non-null   float64       \n",
      " 15  had_health_insurance_during_visit?  6102 non-null   object        \n",
      " 16  had_routine_checkup_with_doctor     6135 non-null   object        \n",
      " 17  years_since_last_checkup            1776 non-null   object        \n",
      " 18  had_cancer_screening?               6127 non-null   object        \n",
      " 19  years_since_last_cancer_screening   1565 non-null   object        \n",
      " 20  your_picture                        0 non-null      float64       \n",
      " 21  your_picture_url                    0 non-null      float64       \n",
      " 22  _id                                 6158 non-null   int64         \n",
      " 23  _uuid                               6158 non-null   object        \n",
      " 24  submission_time                     6158 non-null   datetime64[ns]\n",
      " 25  _validation_status                  0 non-null      float64       \n",
      " 26  _notes                              0 non-null      float64       \n",
      " 27  _status                             6158 non-null   object        \n",
      " 28  _submitted_by                       6157 non-null   object        \n",
      " 29  __version__                         6158 non-null   object        \n",
      " 30  _tags                               0 non-null      float64       \n",
      "dtypes: datetime64[ns](2), float64(11), int64(1), object(17)\n",
      "memory usage: 1.5+ MB\n"
     ]
    }
   ],
   "source": [
    "# ensuring all column names are all lower case\n",
    "df.columns=df.columns.str.lower()\n",
    "\n",
    "# ensuring all column names have the spaces between words replaced by _\n",
    "df.columns=df.columns.str.replace(\" \",\"_\")\n",
    "\n",
    "# viewing the general dataset information\n",
    "df.info()"
   ]
  },
  {
   "cell_type": "markdown",
   "id": "a7e95f0b-fbef-4e91-87b1-a37a0f81d102",
   "metadata": {},
   "source": [
    "***\n",
    "#### 3.2.2 CONSISTENCY CHECK\n",
    "***\n",
    "- Duplicated rows\n",
    "- Cross-Field Consistency\n",
    "- Data Validation\n"
   ]
  },
  {
   "cell_type": "code",
   "execution_count": 15,
   "id": "a9092a5a-0e91-4bdc-8fcd-ce3f81ce7140",
   "metadata": {},
   "outputs": [
    {
     "data": {
      "text/plain": [
       "0"
      ]
     },
     "execution_count": 15,
     "metadata": {},
     "output_type": "execute_result"
    }
   ],
   "source": [
    "# check for duplicated rows\n",
    "df.duplicated().sum()"
   ]
  },
  {
   "cell_type": "code",
   "execution_count": 16,
   "id": "5864df41-d70d-496f-abc6-e36f1a21b31c",
   "metadata": {},
   "outputs": [],
   "source": [
    "# Ensuring all entries in the insurer column are standardized\n",
    "df['insurer'] = df['insurer'].str.strip().str.upper()\n"
   ]
  },
  {
   "cell_type": "code",
   "execution_count": 17,
   "id": "44a367a4-1848-4880-a23a-431e71883bee",
   "metadata": {},
   "outputs": [],
   "source": [
    "# Assumption 1:\n",
    "df.loc[(df[\"had_health_insurance?\"]==\"No\") & ((df['insurer']==\"NHIF\")|(df['insurer']==\"MADISON\")|(df['insurer']==\"BRITAM\")|(df['insurer']==\"JUBILEE\")|(df['insurer']==\"JUBILEE INSURANCE\")|(df['insurer']==\"KCB\")|(df[\"insurer\"]==\"INPATIENT COVER\")), \"had_health_insurance?\"]=\"Yes\"\n",
    "\n",
    "#For completeness, if someone indicated no health_insurance then they are Not insured\n",
    "df.loc[df[\"had_health_insurance?\"]==\"No\",'insurer' ] =\"NOT_INSURED\"\n",
    "\n"
   ]
  },
  {
   "cell_type": "markdown",
   "id": "d994f79d-2fab-4a16-9f1c-c39978e75ebe",
   "metadata": {},
   "source": [
    "**Assumptions:**\n",
    "***\n",
    "These assumptions were considered.\n",
    "- If indicated in the had health insurance as \"No\" but indicated the insurance cover presence of a cover eg NHIF or MADISON, then the had health insurance cover was changed to Yes\n",
    "- If had health insurance column was indicated as \"No\" then the insurer column was filled with \"NOT_INSURED\" for consistency"
   ]
  },
  {
   "cell_type": "code",
   "execution_count": 19,
   "id": "80ec9694-c381-4105-9689-3c4890fa9fcd",
   "metadata": {},
   "outputs": [],
   "source": [
    "# Assumption 2:\n",
    "df.loc[(df[\"had_routine_checkup_with_doctor\"]==\"No\") & (df[\"years_since_last_checkup\"].notnull()),\"had_routine_checkup_with_doctor\"]= \"Yes\"\n",
    "\n",
    "#\n",
    "df.loc[df[\"had_routine_checkup_with_doctor\"]==\"No\",'years_since_last_checkup' ] =\"Not_Applicable\""
   ]
  },
  {
   "cell_type": "markdown",
   "id": "f22e9d76-2e0f-4917-9d09-87607e13126d",
   "metadata": {},
   "source": [
    "**Assumptions:**\n",
    "***\n",
    "These assumptions were considered.\n",
    "- If indicated in the had routine checkup with doctor column as \"No\" but filled in the years since last checkup, then the had routine checkup with doctor column was changed to \"Yes\"\n",
    "- If had routine checkup with doctor column was filled as \"No\", then year since last checkup column was filled with \"Not_Applicable\" for consistency\n"
   ]
  },
  {
   "cell_type": "code",
   "execution_count": 21,
   "id": "c3b2631c-c6cb-4676-841f-aac526a70d25",
   "metadata": {},
   "outputs": [],
   "source": [
    "# Assumption 3:\n",
    "df.loc[(df[\"had_cancer_screening?\"]==\"No\") & (df[\"years_since_last_cancer_screening\"].notnull()),\"had_cancer_screening?\"]= \"Yes\"\n",
    "\n",
    "#\n",
    "df.loc[df[\"had_cancer_screening?\"]==\"No\",'years_since_last_cancer_screening' ] =\"Not_Applicable\""
   ]
  },
  {
   "cell_type": "markdown",
   "id": "496c681c-05f0-4a23-a90f-52b45c137342",
   "metadata": {},
   "source": [
    "**Assumptions:**\n",
    "***\n",
    "These assumptions were considered.\n",
    "- If indicated in the had cancer screening column as \"No\" but filled in the years since last cancer screening, then the had cancer screening column was changed to \"Yes\"\n",
    "-  If had cancer screening column was filled as \"No\", then year since last cancer screening column was filled with \"Not_Applicable\" for consistency"
   ]
  },
  {
   "cell_type": "markdown",
   "id": "699b293d-52de-47b8-80ad-12ece2d9df98",
   "metadata": {},
   "source": [
    "***\n",
    "#### 3.2.3 VALIDITY CHECK\n",
    "\n",
    "***\n",
    "- Irrelevant Data\n",
    "- Outliers\n"
   ]
  },
  {
   "cell_type": "code",
   "execution_count": 24,
   "id": "16326e5d-23a3-40d5-8eb5-678ce34c3cb0",
   "metadata": {
    "panel-layout": {
     "height": 27.140625,
     "visible": true,
     "width": 100
    }
   },
   "outputs": [
    {
     "data": {
      "text/plain": [
       "(6158, 21)"
      ]
     },
     "execution_count": 24,
     "metadata": {},
     "output_type": "execute_result"
    }
   ],
   "source": [
    "# Dropping all columns with null values\n",
    "to_delete=['__version__','_status','_submitted_by','_uuid', \"_id\"]\n",
    "\n",
    "# Dropping columns\n",
    "df.drop(columns=to_delete, inplace= True, axis=1)\n",
    "\n",
    "df = df.dropna(axis=1, how='all')\n",
    "df.shape"
   ]
  },
  {
   "cell_type": "markdown",
   "id": "a717eeb7-1aec-47d7-af41-8f554de9df3f",
   "metadata": {
    "panel-layout": {
     "height": 114.5625,
     "visible": true,
     "width": 100
    }
   },
   "source": [
    "**Observations:**\n",
    "- Upon dropping columns that contain no values, dataset has 26 columns\n",
    "- Futher columns containing superfluous information were deleted as above"
   ]
  },
  {
   "cell_type": "code",
   "execution_count": 26,
   "id": "cdfec79d-4365-46fe-8ffb-08206037bd84",
   "metadata": {},
   "outputs": [
    {
     "name": "stdout",
     "output_type": "stream",
     "text": [
      "***********************************************\n",
      "Columns Containing Outliers Include: ['location_latitude', 'location_longitude', 'location_altitude', 'location_precision', 'date_and_time', 'no_of_children', 'months_since_last_hospital_visit', 'submission_time']\n",
      "***********************************************\n"
     ]
    },
    {
     "data": {
      "image/png": "[encoded data removed]",
      "text/plain": [
       "<Figure size 2000x2000 with 8 Axes>"
      ]
     },
     "metadata": {},
     "output_type": "display_data"
    }
   ],
   "source": [
    "EDA_checks = EDA(df)\n",
    "EDA_checks.check_outliers_and_plot()"
   ]
  },
  {
   "cell_type": "markdown",
   "id": "5c5d1b84-e4e9-4a69-8a5a-65bbdc6616c7",
   "metadata": {},
   "source": [
    "***\n",
    "**Handling Outliers in Number of Children Column**\n",
    "***"
   ]
  },
  {
   "cell_type": "code",
   "execution_count": 28,
   "id": "729005c6-3857-405d-8235-8f8214e07414",
   "metadata": {},
   "outputs": [],
   "source": [
    "# Getting the index of the rows to drop\n",
    "idx=df[df[\"no_of_children\"]>1000].index\n",
    "\n",
    "# Dropping the \n",
    "df= df.drop(index=idx)"
   ]
  },
  {
   "cell_type": "markdown",
   "id": "3b5c53e4-49f9-4e1f-8a2c-d2056efa9aac",
   "metadata": {},
   "source": [
    "**Assumptions:**\n",
    "***\n",
    "- Any row with number of children above 1000 is dropped as this is an outlier that may skew the data\n",
    "\n",
    "\n",
    "***\n",
    "**Handling outliers in months since last hospital visit column**\n",
    "***"
   ]
  },
  {
   "cell_type": "code",
   "execution_count": 30,
   "id": "064f716e-93f3-46d4-865e-695fbee675a9",
   "metadata": {},
   "outputs": [],
   "source": [
    "# Creating function to handle outlier\n",
    "def calc_month_difference(start_date, year_to_compare):\n",
    "    \"\"\"\n",
    "    Function to calculate the difference between the date of record and the year to compare it to\n",
    "    \"\"\"\n",
    "    start_datetime=start_date\n",
    "    \n",
    "    # Creating datetime object for the comparision i.e. Jan 1st\n",
    "    compare_datetime = datetime(year_to_compare, 12, 1)\n",
    "    \n",
    "    # Calculate the difference in months\n",
    "    month_difference = (start_datetime.year - compare_datetime.year) * 12 + (start_datetime.month - compare_datetime.month)\n",
    "    \n",
    "    return month_difference"
   ]
  },
  {
   "cell_type": "code",
   "execution_count": 31,
   "id": "4f356df9-8bf5-4044-8852-a80026422379",
   "metadata": {},
   "outputs": [
    {
     "data": {
      "text/html": [
       "<div>\n",
       "<style scoped>\n",
       "    .dataframe tbody tr th:only-of-type {\n",
       "        vertical-align: middle;\n",
       "    }\n",
       "\n",
       "    .dataframe tbody tr th {\n",
       "        vertical-align: top;\n",
       "    }\n",
       "\n",
       "    .dataframe thead th {\n",
       "        text-align: right;\n",
       "    }\n",
       "</style>\n",
       "<table border=\"1\" class=\"dataframe\">\n",
       "  <thead>\n",
       "    <tr style=\"text-align: right;\">\n",
       "      <th></th>\n",
       "      <th>location</th>\n",
       "      <th>location_latitude</th>\n",
       "      <th>location_longitude</th>\n",
       "      <th>location_altitude</th>\n",
       "      <th>location_precision</th>\n",
       "      <th>date_and_time</th>\n",
       "      <th>age</th>\n",
       "      <th>gender</th>\n",
       "      <th>marital_status</th>\n",
       "      <th>no_of_children</th>\n",
       "      <th>employment_status</th>\n",
       "      <th>monthly_household_income</th>\n",
       "      <th>had_health_insurance?</th>\n",
       "      <th>insurer</th>\n",
       "      <th>months_since_last_hospital_visit</th>\n",
       "      <th>had_health_insurance_during_visit?</th>\n",
       "      <th>had_routine_checkup_with_doctor</th>\n",
       "      <th>years_since_last_checkup</th>\n",
       "      <th>had_cancer_screening?</th>\n",
       "      <th>years_since_last_cancer_screening</th>\n",
       "      <th>submission_time</th>\n",
       "    </tr>\n",
       "    <tr>\n",
       "      <th>_index</th>\n",
       "      <th></th>\n",
       "      <th></th>\n",
       "      <th></th>\n",
       "      <th></th>\n",
       "      <th></th>\n",
       "      <th></th>\n",
       "      <th></th>\n",
       "      <th></th>\n",
       "      <th></th>\n",
       "      <th></th>\n",
       "      <th></th>\n",
       "      <th></th>\n",
       "      <th></th>\n",
       "      <th></th>\n",
       "      <th></th>\n",
       "      <th></th>\n",
       "      <th></th>\n",
       "      <th></th>\n",
       "      <th></th>\n",
       "      <th></th>\n",
       "      <th></th>\n",
       "    </tr>\n",
       "  </thead>\n",
       "  <tbody>\n",
       "    <tr>\n",
       "      <th>160</th>\n",
       "      <td>-0.3341618 35.238713 0.0 2799.999</td>\n",
       "      <td>-0.334162</td>\n",
       "      <td>35.238713</td>\n",
       "      <td>0.0</td>\n",
       "      <td>2799.999</td>\n",
       "      <td>2023-05-24 08:10:00</td>\n",
       "      <td>18-30</td>\n",
       "      <td>Male</td>\n",
       "      <td>Single</td>\n",
       "      <td>0.0</td>\n",
       "      <td>Unemployed</td>\n",
       "      <td>Less than 10000</td>\n",
       "      <td>No</td>\n",
       "      <td>NOT_INSURED</td>\n",
       "      <td>2020.0</td>\n",
       "      <td>No</td>\n",
       "      <td>No</td>\n",
       "      <td>Not_Applicable</td>\n",
       "      <td>Yes</td>\n",
       "      <td>4+</td>\n",
       "      <td>2023-05-24 05:12:35</td>\n",
       "    </tr>\n",
       "  </tbody>\n",
       "</table>\n",
       "</div>"
      ],
      "text/plain": [
       "                                 location  location_latitude  \\\n",
       "_index                                                         \n",
       "160     -0.3341618 35.238713 0.0 2799.999          -0.334162   \n",
       "\n",
       "        location_longitude  location_altitude  location_precision  \\\n",
       "_index                                                              \n",
       "160              35.238713                0.0            2799.999   \n",
       "\n",
       "             date_and_time    age gender marital_status  no_of_children  \\\n",
       "_index                                                                    \n",
       "160    2023-05-24 08:10:00  18-30   Male         Single             0.0   \n",
       "\n",
       "       employment_status monthly_household_income had_health_insurance?  \\\n",
       "_index                                                                    \n",
       "160           Unemployed          Less than 10000                    No   \n",
       "\n",
       "            insurer  months_since_last_hospital_visit  \\\n",
       "_index                                                  \n",
       "160     NOT_INSURED                            2020.0   \n",
       "\n",
       "       had_health_insurance_during_visit? had_routine_checkup_with_doctor  \\\n",
       "_index                                                                      \n",
       "160                                    No                              No   \n",
       "\n",
       "       years_since_last_checkup had_cancer_screening?  \\\n",
       "_index                                                  \n",
       "160              Not_Applicable                   Yes   \n",
       "\n",
       "       years_since_last_cancer_screening     submission_time  \n",
       "_index                                                        \n",
       "160                                   4+ 2023-05-24 05:12:35  "
      ]
     },
     "execution_count": 31,
     "metadata": {},
     "output_type": "execute_result"
    }
   ],
   "source": [
    "df[df[\"months_since_last_hospital_visit\"] == 2020]"
   ]
  },
  {
   "cell_type": "code",
   "execution_count": 32,
   "id": "5df8908d-5ced-4d0e-a9ec-607a019c2939",
   "metadata": {},
   "outputs": [
    {
     "name": "stdout",
     "output_type": "stream",
     "text": [
      "Date of the record: 2023-05-24 08:10:00\n",
      "The difference in months is: 2023-05-24 08:10:00 29\n"
     ]
    }
   ],
   "source": [
    "# filtering for the date of the outlier\n",
    "filtered_date = df.loc[df[\"months_since_last_hospital_visit\"] == 2020, \"date_and_time\"].iloc[0]\n",
    "print(f\"Date of the record: {filtered_date}\")\n",
    "\n",
    "# Year to compare it to\n",
    "year_to_compare = 2020\n",
    "\n",
    "# Calculating the difference\n",
    "months_difference = calc_month_difference(filtered_date, year_to_compare)\n",
    "print(f\"The difference in months is: {filtered_date} {months_difference}\")\n",
    "\n",
    "# Replacing teh outlier with the value generated\n",
    "df.loc[df['months_since_last_hospital_visit']==2020, 'months_since_last_hospital_visit']=months_difference\n",
    "\n"
   ]
  },
  {
   "cell_type": "code",
   "execution_count": 33,
   "id": "b392c7e2-9037-47ef-a5ee-33627f086119",
   "metadata": {},
   "outputs": [
    {
     "name": "stdout",
     "output_type": "stream",
     "text": [
      "Date of the record: 2023-06-29 17:44:00\n",
      "The difference in months is: 2023-06-29 17:44:00 18\n"
     ]
    }
   ],
   "source": [
    "# filtering for the date of outlier\n",
    "filtered_date = df.loc[df[\"months_since_last_hospital_visit\"] == 2021, \"date_and_time\"].iloc[0]\n",
    "print(f\"Date of the record: {filtered_date}\")\n",
    "\n",
    "# year to compare it to\n",
    "year_to_compare = 2021\n",
    "\n",
    "# Calculating the difference\n",
    "months_difference = calc_month_difference(filtered_date, year_to_compare)\n",
    "print(f\"The difference in months is: {filtered_date} {months_difference}\")\n",
    "\n",
    "#Replacing the outlier with the value generated\n",
    "df.loc[df['months_since_last_hospital_visit']==2021, 'months_since_last_hospital_visit']=months_difference\n"
   ]
  },
  {
   "cell_type": "code",
   "execution_count": null,
   "id": "bbc9bebe-e42b-41e7-a099-b80c5cf84f38",
   "metadata": {},
   "outputs": [],
   "source": []
  },
  {
   "cell_type": "markdown",
   "id": "04df0d30-c4d9-4938-ae74-2a015a4645b6",
   "metadata": {},
   "source": [
    "**Assumptions:**\n",
    "***\n",
    "- We assume that the comparison is made from December of the year. This reduces the months but produces minimal bias while ensuring we do not lose information"
   ]
  },
  {
   "cell_type": "markdown",
   "id": "55e04cb5-7eb2-4982-9c3d-efbbcff58a32",
   "metadata": {},
   "source": [
    "***\n",
    "#### 3.2.4 COMPLETENESS CHECK\n",
    "***\n",
    "- Dropping Missing values\n",
    "- Filling Missing Values\n",
    "**\n",
    "Due to the large number of missing values in each column we shall handle them one at a time"
   ]
  },
  {
   "cell_type": "code",
   "execution_count": 36,
   "id": "3d4f9313-8d41-42c0-a406-43e32cd2376b",
   "metadata": {},
   "outputs": [
    {
     "data": {
      "text/html": [
       "<div>\n",
       "<style scoped>\n",
       "    .dataframe tbody tr th:only-of-type {\n",
       "        vertical-align: middle;\n",
       "    }\n",
       "\n",
       "    .dataframe tbody tr th {\n",
       "        vertical-align: top;\n",
       "    }\n",
       "\n",
       "    .dataframe thead th {\n",
       "        text-align: right;\n",
       "    }\n",
       "</style>\n",
       "<table border=\"1\" class=\"dataframe\">\n",
       "  <thead>\n",
       "    <tr style=\"text-align: right;\">\n",
       "      <th></th>\n",
       "      <th>% of Null Values</th>\n",
       "    </tr>\n",
       "  </thead>\n",
       "  <tbody>\n",
       "    <tr>\n",
       "      <th>location</th>\n",
       "      <td>5.72</td>\n",
       "    </tr>\n",
       "    <tr>\n",
       "      <th>location_latitude</th>\n",
       "      <td>5.72</td>\n",
       "    </tr>\n",
       "    <tr>\n",
       "      <th>location_longitude</th>\n",
       "      <td>5.72</td>\n",
       "    </tr>\n",
       "    <tr>\n",
       "      <th>location_altitude</th>\n",
       "      <td>5.72</td>\n",
       "    </tr>\n",
       "    <tr>\n",
       "      <th>location_precision</th>\n",
       "      <td>5.72</td>\n",
       "    </tr>\n",
       "    <tr>\n",
       "      <th>date_and_time</th>\n",
       "      <td>2.39</td>\n",
       "    </tr>\n",
       "    <tr>\n",
       "      <th>age</th>\n",
       "      <td>0.29</td>\n",
       "    </tr>\n",
       "    <tr>\n",
       "      <th>gender</th>\n",
       "      <td>0.28</td>\n",
       "    </tr>\n",
       "    <tr>\n",
       "      <th>marital_status</th>\n",
       "      <td>0.29</td>\n",
       "    </tr>\n",
       "    <tr>\n",
       "      <th>no_of_children</th>\n",
       "      <td>10.15</td>\n",
       "    </tr>\n",
       "    <tr>\n",
       "      <th>employment_status</th>\n",
       "      <td>0.39</td>\n",
       "    </tr>\n",
       "    <tr>\n",
       "      <th>monthly_household_income</th>\n",
       "      <td>4.21</td>\n",
       "    </tr>\n",
       "    <tr>\n",
       "      <th>had_health_insurance?</th>\n",
       "      <td>0.31</td>\n",
       "    </tr>\n",
       "    <tr>\n",
       "      <th>insurer</th>\n",
       "      <td>0.81</td>\n",
       "    </tr>\n",
       "    <tr>\n",
       "      <th>months_since_last_hospital_visit</th>\n",
       "      <td>2.57</td>\n",
       "    </tr>\n",
       "    <tr>\n",
       "      <th>had_health_insurance_during_visit?</th>\n",
       "      <td>0.91</td>\n",
       "    </tr>\n",
       "    <tr>\n",
       "      <th>had_routine_checkup_with_doctor</th>\n",
       "      <td>0.37</td>\n",
       "    </tr>\n",
       "    <tr>\n",
       "      <th>years_since_last_checkup</th>\n",
       "      <td>0.70</td>\n",
       "    </tr>\n",
       "    <tr>\n",
       "      <th>had_cancer_screening?</th>\n",
       "      <td>0.49</td>\n",
       "    </tr>\n",
       "    <tr>\n",
       "      <th>years_since_last_cancer_screening</th>\n",
       "      <td>0.80</td>\n",
       "    </tr>\n",
       "    <tr>\n",
       "      <th>submission_time</th>\n",
       "      <td>0.00</td>\n",
       "    </tr>\n",
       "  </tbody>\n",
       "</table>\n",
       "</div>"
      ],
      "text/plain": [
       "                                    % of Null Values\n",
       "location                                        5.72\n",
       "location_latitude                               5.72\n",
       "location_longitude                              5.72\n",
       "location_altitude                               5.72\n",
       "location_precision                              5.72\n",
       "date_and_time                                   2.39\n",
       "age                                             0.29\n",
       "gender                                          0.28\n",
       "marital_status                                  0.29\n",
       "no_of_children                                 10.15\n",
       "employment_status                               0.39\n",
       "monthly_household_income                        4.21\n",
       "had_health_insurance?                           0.31\n",
       "insurer                                         0.81\n",
       "months_since_last_hospital_visit                2.57\n",
       "had_health_insurance_during_visit?              0.91\n",
       "had_routine_checkup_with_doctor                 0.37\n",
       "years_since_last_checkup                        0.70\n",
       "had_cancer_screening?                           0.49\n",
       "years_since_last_cancer_screening               0.80\n",
       "submission_time                                 0.00"
      ]
     },
     "execution_count": 36,
     "metadata": {},
     "output_type": "execute_result"
    }
   ],
   "source": [
    "#Percentage Of missing values in the dataframe\n",
    "pd.DataFrame((df.isna().mean() * 100).round(2), columns=[\"% of Null Values\"])"
   ]
  },
  {
   "cell_type": "markdown",
   "id": "43703ac7-9b8d-45e2-a276-72f70029a5b4",
   "metadata": {},
   "source": [
    "***\n",
    "**3.2.4.1. HANDLING MISSING VALUES IN GENDER COLUMN**\n",
    "***"
   ]
  },
  {
   "cell_type": "code",
   "execution_count": 38,
   "id": "6c4012f0-adfe-45bc-b140-51147e2b6c58",
   "metadata": {},
   "outputs": [
    {
     "name": "stdout",
     "output_type": "stream",
     "text": [
      "Percentage of missing values in Gender column 0.28%\n"
     ]
    }
   ],
   "source": [
    "# Finding the percentage of missing values in Gender Column\n",
    "print(f\"Percentage of missing values in Gender column {(df.gender.isna().mean()*100).round(2)}%\")\n"
   ]
  },
  {
   "cell_type": "code",
   "execution_count": 39,
   "id": "d64e4048-80f0-4bc2-a1ce-8a7d1c44e9eb",
   "metadata": {
    "panel-layout": {
     "height": 0,
     "visible": true,
     "width": 100
    }
   },
   "outputs": [
    {
     "name": "stdout",
     "output_type": "stream",
     "text": [
      "Remaining missing values in Gender: 0\n"
     ]
    }
   ],
   "source": [
    "# dropping null values in Gender column\n",
    "df.dropna(subset=[\"gender\"],inplace= True)\n",
    "\n",
    "# Check if all missing values are filled\n",
    "print(f\"Remaining missing values in Gender: {df['gender'].isna().sum()}\")\n"
   ]
  },
  {
   "cell_type": "markdown",
   "id": "66ea4a1c-eaa6-4f61-b6fd-3d6f59a5e7cf",
   "metadata": {},
   "source": [
    "**Assumptions:**\n",
    "***\n",
    "- Percentage of Missing values in Gender Column is only 0.28% of the whole dataset hence dropping the columns was decided upon"
   ]
  },
  {
   "cell_type": "markdown",
   "id": "45393bec-be87-4f6f-84c3-dc48cd548497",
   "metadata": {},
   "source": [
    "***\n",
    "**3.2.4.2. HANDLING MISSING VALUES IN AGE COLUMN**\n",
    "***"
   ]
  },
  {
   "cell_type": "code",
   "execution_count": 42,
   "id": "f83c6c3e-ceea-4cdc-a996-a26bb34ff570",
   "metadata": {},
   "outputs": [
    {
     "name": "stdout",
     "output_type": "stream",
     "text": [
      "Percentage of missing values in Age  column 0.18%\n"
     ]
    }
   ],
   "source": [
    "# Finding the percentage of missing values in Age Column\n",
    "print(f\"Percentage of missing values in Age  column {(df.age.isna().mean()*100).round(2)}%\")"
   ]
  },
  {
   "cell_type": "code",
   "execution_count": 43,
   "id": "4980f2fd-eeb4-4d1c-ac27-446459fe7e3a",
   "metadata": {},
   "outputs": [
    {
     "data": {
      "text/plain": [
       "gender  marital_status  no_of_children  employment_status  age  \n",
       "Female  Divorced        0.0             Self-employed      41-50      1\n",
       "                                        Unemployed         18-30      1\n",
       "                        1.0             Employed           18-30      2\n",
       "                                                           31-40      6\n",
       "                                                           41-50      4\n",
       "                                                           51-60      1\n",
       "                                                           60+        1\n",
       "                                        Self-employed      18-30      4\n",
       "                                                           31-40      8\n",
       "                                                           41-50      4\n",
       "                                                           51-60      1\n",
       "                                                           60+        2\n",
       "                                        Unemployed         18-30      8\n",
       "                                                           31-40      1\n",
       "                        2.0             Employed           18-30      7\n",
       "                                                           31-40      8\n",
       "                                                           41-50      8\n",
       "                                                           51-60      3\n",
       "                                                           60+        2\n",
       "                                        Self-employed      18-30      3\n",
       "                                                           31-40     10\n",
       "                                                           41-50     16\n",
       "                                                           51-60      9\n",
       "                                                           60+        7\n",
       "                                        Unemployed         18-30      3\n",
       "                                                           31-40      7\n",
       "                                                           41-50      2\n",
       "                                                           51-60      2\n",
       "                                                           60+        2\n",
       "                        3.0             Employed           31-40      3\n",
       "                                                           41-50     12\n",
       "                                                           51-60      2\n",
       "                                                           60+        1\n",
       "                                        Self-employed      18-30      1\n",
       "                                                           31-40     12\n",
       "                                                           41-50      8\n",
       "                                                           51-60      7\n",
       "                                                           60+        4\n",
       "                                        Unemployed         18-30      2\n",
       "                                                           31-40      8\n",
       "                                                           41-50      6\n",
       "                        4.0             Employed           18-30      1\n",
       "                                                           41-50      2\n",
       "                                                           51-60      3\n",
       "                                                           60+        1\n",
       "                                        Self-employed      31-40      3\n",
       "                                                           41-50      4\n",
       "                                                           51-60      5\n",
       "                                                           60+        4\n",
       "                                        Unemployed         18-30      1\n",
       "                                                           31-40      2\n",
       "                                                           41-50      1\n",
       "                                                           51-60      3\n",
       "                                                           60+        1\n",
       "                        5.0             Employed           31-40      2\n",
       "                                                           41-50      5\n",
       "                                                           51-60      3\n",
       "                                                           60+        2\n",
       "                                        Self-employed      31-40      1\n",
       "                                                           41-50      3\n",
       "                                                           51-60      9\n",
       "                                                           60+        2\n",
       "                                        Unemployed         31-40      1\n",
       "                                                           41-50      2\n",
       "                                                           51-60      2\n",
       "                                                           60+        3\n",
       "                        6.0             Employed           18-30      1\n",
       "                                                           51-60      1\n",
       "                                                           60+        1\n",
       "                                        Self-employed      41-50      2\n",
       "                                                           51-60      4\n",
       "                                                           60+        3\n",
       "                                        Unemployed         41-50      1\n",
       "                                                           51-60      2\n",
       "                                                           60+        3\n",
       "                        7.0             Self-employed      31-40      1\n",
       "                                                           51-60      1\n",
       "                                        Unemployed         51-60      1\n",
       "                                                           60+        1\n",
       "                        8.0             Employed           31-40      1\n",
       "                                                           60+        1\n",
       "                                        Self-employed      51-60      1\n",
       "                                                           60+        1\n",
       "                                        Unemployed         51-60      1\n",
       "                                                           60+        2\n",
       "                        9.0             Employed           51-60      1\n",
       "                                        Self-employed      51-60      1\n",
       "                                        Unemployed         41-50      1\n",
       "                        10.0            Unemployed         60+        1\n",
       "                        14.0            Unemployed         60+        1\n",
       "        Married         0.0             Employed           18-30     10\n",
       "                                                           31-40      3\n",
       "                                                           41-50      1\n",
       "                                                           60+        1\n",
       "                                        Self-employed      18-30      5\n",
       "                                                           31-40      2\n",
       "                                                           60+        1\n",
       "                                        Unemployed         18-30      5\n",
       "                                                           31-40      2\n",
       "                        1.0             Employed           18-30     25\n",
       "                                                           31-40     38\n",
       "                                                           41-50      9\n",
       "                                                           51-60      3\n",
       "                                        Self-employed      18-30     30\n",
       "                                                           31-40     25\n",
       "                                                           41-50     10\n",
       "                                                           51-60      3\n",
       "                                        Unemployed         18-30     54\n",
       "                                                           31-40     22\n",
       "                                                           41-50      2\n",
       "                                                           51-60      1\n",
       "                        2.0             Employed           18-30     36\n",
       "                                                           31-40    120\n",
       "                                                           41-50     41\n",
       "                                                           51-60     13\n",
       "                                                           60+        5\n",
       "                                        Self-employed      18-30     36\n",
       "                                                           31-40     84\n",
       "                                                           41-50     37\n",
       "                                                           51-60      9\n",
       "                                                           60+        2\n",
       "                                        Unemployed         18-30     44\n",
       "                                                           31-40     59\n",
       "                                                           41-50     21\n",
       "                                                           51-60     10\n",
       "                                                           60+        5\n",
       "                        3.0             Employed           18-30      9\n",
       "                                                           31-40     94\n",
       "                                                           41-50     52\n",
       "                                                           51-60     15\n",
       "                                                           60+        3\n",
       "                                        Self-employed      18-30     15\n",
       "                                                           31-40     77\n",
       "                                                           41-50     55\n",
       "                                                           51-60     18\n",
       "                                                           60+        7\n",
       "                                        Unemployed         18-30     10\n",
       "                                                           31-40     47\n",
       "                                                           41-50     27\n",
       "                                                           51-60     11\n",
       "                                                           60+        7\n",
       "                        4.0             Employed           18-30      1\n",
       "                                                           31-40     14\n",
       "                                                           41-50     32\n",
       "                                                           51-60     20\n",
       "                                                           60+        1\n",
       "                                        Self-employed      18-30      4\n",
       "                                                           31-40     25\n",
       "                                                           41-50     32\n",
       "                                                           51-60     18\n",
       "                                                           60+        7\n",
       "                                        Unemployed         18-30      2\n",
       "                                                           31-40     14\n",
       "                                                           41-50     17\n",
       "                                                           51-60     11\n",
       "                                                           60+        7\n",
       "                        5.0             Employed           31-40     15\n",
       "                                                           41-50     23\n",
       "                                                           51-60     14\n",
       "                                                           60+        5\n",
       "                                        Self-employed      18-30      2\n",
       "                                                           31-40     10\n",
       "                                                           41-50     24\n",
       "                                                           51-60     21\n",
       "                                                           60+        6\n",
       "                                        Unemployed         18-30      2\n",
       "                                                           31-40      9\n",
       "                                                           41-50     14\n",
       "                                                           51-60     20\n",
       "                                                           60+       16\n",
       "                        6.0             Employed           18-30      1\n",
       "                                                           31-40      2\n",
       "                                                           41-50      7\n",
       "                                                           51-60      7\n",
       "                                                           60+        4\n",
       "                                        Self-employed      31-40      6\n",
       "                                                           41-50      5\n",
       "                                                           51-60      9\n",
       "                                                           60+        7\n",
       "                                        Unemployed         18-30      1\n",
       "                                                           31-40      8\n",
       "                                                           41-50      3\n",
       "                                                           51-60     12\n",
       "                                                           60+       21\n",
       "                        7.0             Employed           31-40      1\n",
       "                                                           41-50      3\n",
       "                                                           51-60      1\n",
       "                                        Self-employed      41-50      2\n",
       "                                                           51-60      4\n",
       "                                                           60+        1\n",
       "                                        Unemployed         41-50      2\n",
       "                                                           51-60      7\n",
       "                                                           60+        8\n",
       "                        8.0             Employed           18-30      1\n",
       "                                                           41-50      3\n",
       "                                                           60+        4\n",
       "                                        Self-employed      31-40      1\n",
       "                                                           41-50      2\n",
       "                                                           51-60      3\n",
       "                                                           60+        5\n",
       "                                        Unemployed         18-30      1\n",
       "                                                           31-40      2\n",
       "                                                           41-50      2\n",
       "                                                           51-60      8\n",
       "                                                           60+       19\n",
       "                        9.0             Self-employed      18-30      2\n",
       "                                                           41-50      2\n",
       "                                                           51-60      2\n",
       "                                                           60+        2\n",
       "                                        Unemployed         31-40      1\n",
       "                                                           51-60      4\n",
       "                                                           60+        6\n",
       "                        10.0            Employed           60+        2\n",
       "                                        Self-employed      51-60      1\n",
       "                                                           60+        2\n",
       "                        11.0            Unemployed         60+        1\n",
       "                        12.0            Self-employed      60+        1\n",
       "                                        Unemployed         51-60      1\n",
       "                        15.0            Employed           51-60      1\n",
       "                        36.0            Employed           31-40      1\n",
       "                        68.0            Unemployed         31-40      1\n",
       "        Single          0.0             Employed           18-30     49\n",
       "                                                           31-40      9\n",
       "                                                           41-50      4\n",
       "                                        Self-employed      18-30     39\n",
       "                                                           31-40      6\n",
       "                                                           41-50      1\n",
       "                                        Unemployed         18-30    223\n",
       "                                                           31-40      2\n",
       "                                                           41-50      1\n",
       "                                                           60+        1\n",
       "                        1.0             Employed           18-30     34\n",
       "                                                           31-40     14\n",
       "                                                           41-50      5\n",
       "                                                           51-60      1\n",
       "                                                           60+        1\n",
       "                                        Self-employed      18-30     37\n",
       "                                                           31-40     14\n",
       "                                                           41-50      4\n",
       "                                        Unemployed         18-30     59\n",
       "                                                           31-40      4\n",
       "                                                           41-50      4\n",
       "                                                           60+        1\n",
       "                        2.0             Employed           18-30     19\n",
       "                                                           31-40     15\n",
       "                                                           41-50      6\n",
       "                                                           60+        1\n",
       "                                        Self-employed      18-30     10\n",
       "                                                           31-40     19\n",
       "                                                           41-50      5\n",
       "                                                           51-60      2\n",
       "                                                           60+        1\n",
       "                                        Unemployed         18-30     26\n",
       "                                                           31-40      8\n",
       "                                                           41-50      2\n",
       "                        3.0             Employed           18-30      1\n",
       "                                                           31-40      5\n",
       "                                                           41-50      3\n",
       "                                        Self-employed      18-30      3\n",
       "                                                           31-40      7\n",
       "                                                           41-50      5\n",
       "                                                           51-60      1\n",
       "                                        Unemployed         18-30      3\n",
       "                                                           31-40      5\n",
       "                                                           51-60      2\n",
       "                        4.0             Employed           31-40      3\n",
       "                                                           41-50      1\n",
       "                                        Self-employed      18-30      1\n",
       "                                                           51-60      2\n",
       "                                        Unemployed         18-30      2\n",
       "                                                           31-40      1\n",
       "                                                           41-50      1\n",
       "                                                           51-60      1\n",
       "                        5.0             Employed           18-30      1\n",
       "                                                           31-40      2\n",
       "                                        Self-employed      41-50      1\n",
       "                                                           60+        1\n",
       "                                        Unemployed         18-30      1\n",
       "                                                           31-40      1\n",
       "                                                           51-60      4\n",
       "                        6.0             Self-employed      60+        1\n",
       "                                        Unemployed         18-30      1\n",
       "                                                           60+        2\n",
       "                        7.0             Self-employed      31-40      1\n",
       "                                        Unemployed         60+        2\n",
       "                        8.0             Unemployed         60+        1\n",
       "                        10.0            Unemployed         60+        2\n",
       "Male    Divorced        0.0             Employed           41-50      3\n",
       "                                        Self-employed      41-50      1\n",
       "                                        Unemployed         41-50      1\n",
       "                                                           51-60      2\n",
       "                        1.0             Employed           18-30      2\n",
       "                                                           31-40      2\n",
       "                                                           41-50      2\n",
       "                                                           60+        1\n",
       "                                        Self-employed      18-30      2\n",
       "                                                           31-40      2\n",
       "                                                           41-50      1\n",
       "                                        Unemployed         18-30      2\n",
       "                                                           31-40      4\n",
       "                                                           41-50      1\n",
       "                                                           51-60      1\n",
       "                                                           60+        1\n",
       "                        2.0             Employed           18-30      1\n",
       "                                                           31-40     14\n",
       "                                                           41-50      4\n",
       "                                                           51-60      3\n",
       "                                                           60+        2\n",
       "                                        Self-employed      18-30      3\n",
       "                                                           31-40      7\n",
       "                                                           41-50      3\n",
       "                                                           51-60      1\n",
       "                                                           60+        1\n",
       "                                        Unemployed         31-40      5\n",
       "                                                           41-50      6\n",
       "                                                           51-60      2\n",
       "                        3.0             Employed           31-40      3\n",
       "                                                           41-50      6\n",
       "                                                           51-60      4\n",
       "                                        Self-employed      31-40      3\n",
       "                                                           41-50      9\n",
       "                                                           51-60      5\n",
       "                                        Unemployed         31-40      2\n",
       "                                                           41-50      3\n",
       "                                                           51-60      2\n",
       "                                                           60+        1\n",
       "                        4.0             Employed           31-40      1\n",
       "                                                           41-50      1\n",
       "                                                           51-60      1\n",
       "                                        Self-employed      41-50      3\n",
       "                                                           51-60      7\n",
       "                                        Unemployed         41-50      1\n",
       "                                                           60+        2\n",
       "                        5.0             Self-employed      51-60      1\n",
       "                                                           60+        4\n",
       "                                        Unemployed         31-40      1\n",
       "                                                           51-60      4\n",
       "                        6.0             Self-employed      31-40      1\n",
       "                                        Unemployed         60+        4\n",
       "                        8.0             Employed           51-60      1\n",
       "                                        Self-employed      51-60      2\n",
       "        Married         0.0             Employed           18-30      6\n",
       "                                                           31-40      4\n",
       "                                        Self-employed      18-30      8\n",
       "                                                           31-40      3\n",
       "                                                           41-50      1\n",
       "                                        Unemployed         18-30      3\n",
       "                                                           31-40      1\n",
       "                        1.0             Employed           18-30     49\n",
       "                                                           31-40     68\n",
       "                                                           41-50     18\n",
       "                                                           51-60      2\n",
       "                                        Self-employed      18-30     46\n",
       "                                                           31-40     25\n",
       "                                                           41-50      4\n",
       "                                                           51-60      1\n",
       "                                        Unemployed         18-30     30\n",
       "                                                           31-40     13\n",
       "                                                           41-50      2\n",
       "                        2.0             Employed           18-30     51\n",
       "                                                           31-40    129\n",
       "                                                           41-50     58\n",
       "                                                           51-60      8\n",
       "                                                           60+        3\n",
       "                                        Self-employed      18-30     20\n",
       "                                                           31-40     95\n",
       "                                                           41-50     56\n",
       "                                                           51-60      8\n",
       "                                                           60+        2\n",
       "                                        Unemployed         18-30     25\n",
       "                                                           31-40     32\n",
       "                                                           41-50     19\n",
       "                                                           51-60      4\n",
       "                        3.0             Employed           18-30      9\n",
       "                                                           31-40     74\n",
       "                                                           41-50     82\n",
       "                                                           51-60     26\n",
       "                                                           60+        1\n",
       "                                        Self-employed      18-30     10\n",
       "                                                           31-40     70\n",
       "                                                           41-50     59\n",
       "                                                           51-60     15\n",
       "                                                           60+        3\n",
       "                                        Unemployed         18-30      9\n",
       "                                                           31-40     27\n",
       "                                                           41-50     17\n",
       "                                                           51-60     10\n",
       "                                                           60+        6\n",
       "                        4.0             Employed           18-30      2\n",
       "                                                           31-40     13\n",
       "                                                           41-50     39\n",
       "                                                           51-60     31\n",
       "                                                           60+        4\n",
       "                                        Self-employed      18-30      2\n",
       "                                                           31-40     15\n",
       "                                                           41-50     24\n",
       "                                                           51-60     28\n",
       "                                                           60+        5\n",
       "                                        Unemployed         31-40      6\n",
       "                                                           41-50      7\n",
       "                                                           51-60      3\n",
       "                                                           60+        6\n",
       "                        5.0             Employed           31-40     16\n",
       "                                                           41-50     29\n",
       "                                                           51-60     33\n",
       "                                                           60+        3\n",
       "                                        Self-employed      31-40      2\n",
       "                                                           41-50     24\n",
       "                                                           51-60     24\n",
       "                                                           60+       11\n",
       "                                        Unemployed         31-40      6\n",
       "                                                           41-50     11\n",
       "                                                           51-60      7\n",
       "                                                           60+       10\n",
       "                        6.0             Employed           31-40      4\n",
       "                                                           41-50      8\n",
       "                                                           51-60      7\n",
       "                                                           60+        9\n",
       "                                        Self-employed      31-40      2\n",
       "                                                           41-50     14\n",
       "                                                           51-60      4\n",
       "                                                           60+       22\n",
       "                                        Unemployed         31-40      4\n",
       "                                                           41-50      6\n",
       "                                                           51-60      2\n",
       "                                                           60+       13\n",
       "                        7.0             Employed           41-50      3\n",
       "                                                           51-60      1\n",
       "                                                           60+        2\n",
       "                                        Self-employed      41-50      6\n",
       "                                                           51-60      2\n",
       "                                                           60+        6\n",
       "                                        Unemployed         31-40      1\n",
       "                                                           41-50      1\n",
       "                                                           51-60      6\n",
       "                                                           60+        8\n",
       "                        8.0             Employed           51-60      2\n",
       "                                                           60+        7\n",
       "                                        Self-employed      41-50      4\n",
       "                                                           51-60      2\n",
       "                                                           60+        5\n",
       "                                        Unemployed         41-50      5\n",
       "                                                           60+       12\n",
       "                        9.0             Employed           31-40      1\n",
       "                                                           41-50      2\n",
       "                                                           60+        2\n",
       "                                        Self-employed      41-50      3\n",
       "                                                           51-60      1\n",
       "                                                           60+        1\n",
       "                                        Unemployed         60+        6\n",
       "                        10.0            Self-employed      60+        2\n",
       "                                        Unemployed         60+        1\n",
       "                        11.0            Employed           31-40      1\n",
       "                                                           41-50      1\n",
       "                                                           51-60      3\n",
       "                                        Self-employed      51-60      1\n",
       "                        12.0            Employed           51-60      3\n",
       "                                        Self-employed      51-60      1\n",
       "                        13.0            Employed           18-30      1\n",
       "                        15.0            Self-employed      51-60      1\n",
       "                        16.0            Unemployed         51-60      1\n",
       "                        19.0            Self-employed      60+        1\n",
       "                        22.0            Employed           31-40      1\n",
       "                        24.0            Self-employed      60+        1\n",
       "                        52.0            Self-employed      31-40      1\n",
       "        Single          0.0             Employed           18-30    103\n",
       "                                                           31-40     15\n",
       "                                                           41-50      2\n",
       "                                                           51-60      2\n",
       "                                        Self-employed      18-30     57\n",
       "                                                           31-40      9\n",
       "                                                           41-50      2\n",
       "                                                           51-60      1\n",
       "                                        Unemployed         18-30    321\n",
       "                                                           31-40     18\n",
       "                                                           41-50     10\n",
       "                                                           51-60      1\n",
       "                        1.0             Employed           18-30     39\n",
       "                                                           31-40     16\n",
       "                                                           41-50      7\n",
       "                                                           51-60      2\n",
       "                                                           60+        1\n",
       "                                        Self-employed      18-30     18\n",
       "                                                           31-40      5\n",
       "                                        Unemployed         18-30     33\n",
       "                                                           31-40      4\n",
       "                                                           41-50      1\n",
       "                                                           51-60      1\n",
       "                        2.0             Employed           18-30     14\n",
       "                                                           31-40     10\n",
       "                                                           41-50      5\n",
       "                                                           51-60      1\n",
       "                                        Self-employed      18-30      3\n",
       "                                                           31-40      6\n",
       "                                                           41-50      2\n",
       "                                        Unemployed         18-30      3\n",
       "                                                           31-40      9\n",
       "                                                           41-50      4\n",
       "                                                           60+        2\n",
       "                        3.0             Employed           18-30      4\n",
       "                                                           31-40      4\n",
       "                                                           41-50      2\n",
       "                                        Self-employed      18-30      3\n",
       "                                        Unemployed         18-30      5\n",
       "                                                           31-40      1\n",
       "                                                           41-50      1\n",
       "                                                           60+        1\n",
       "                        4.0             Employed           18-30      1\n",
       "                                        Unemployed         18-30      1\n",
       "                                                           41-50      1\n",
       "                                                           51-60      1\n",
       "                                                           60+        1\n",
       "                        5.0             Employed           18-30      1\n",
       "                                        Unemployed         31-40      1\n",
       "                                                           41-50      3\n",
       "                                                           51-60      1\n",
       "                        6.0             Employed           31-40      1\n",
       "                                        Unemployed         31-40      1\n",
       "                                                           60+        2\n",
       "                        7.0             Unemployed         60+        1\n",
       "Name: age, dtype: int64"
      ]
     },
     "execution_count": 43,
     "metadata": {},
     "output_type": "execute_result"
    }
   ],
   "source": [
    "df.groupby(['gender','marital_status','no_of_children', 'employment_status','age'])['age'].count()"
   ]
  },
  {
   "cell_type": "code",
   "execution_count": 44,
   "id": "5e0d0a39-770e-4bf9-ab08-2e2e8c2f09da",
   "metadata": {},
   "outputs": [
    {
     "name": "stdout",
     "output_type": "stream",
     "text": [
      "Remaining missing values in Age: 0\n"
     ]
    }
   ],
   "source": [
    "\n",
    "# Define a function to compute the mode \n",
    "def calc_mode(series):\n",
    "    return series.mode()[0] \n",
    "\n",
    "# Group by relevant columns and calculate the mode for Age\n",
    "grouped_mode = (\n",
    "    df.groupby(['gender','marital_status','no_of_children', 'employment_status'])['age']\n",
    "    .transform(calc_mode)\n",
    ")\n",
    "\n",
    "# Fill missing values in Age with the grouped mode\n",
    "df['age'] = df['age'].fillna(grouped_mode)\n",
    "\n",
    "# Check if all missing values are filled\n",
    "print(f\"Remaining missing values in Age: {df['age'].isna().sum()}\")\n"
   ]
  },
  {
   "cell_type": "markdown",
   "id": "be3d4453-100d-4b4d-89cc-7561105dde37",
   "metadata": {},
   "source": [
    "**Assumptions:**\n",
    "***\n",
    "- Values seem to be missing completely at random\n",
    "- Mode is used as the column is categorical\n",
    "- The code assumes that the mode within each group defined by 'gender', 'marital_status', 'no_of_children', and 'employment_status' is a representative value for the missing ages\n"
   ]
  },
  {
   "cell_type": "markdown",
   "id": "00a985d6-2f15-4ced-a952-35726df542b1",
   "metadata": {},
   "source": [
    "***\n",
    "**3.4.3. HANDLING MISSING VALUES IN MARITAL STATUS COLUMN**\n",
    "***"
   ]
  },
  {
   "cell_type": "code",
   "execution_count": 47,
   "id": "4088f407-0a0d-467d-936c-0e8ba2ac387b",
   "metadata": {},
   "outputs": [
    {
     "name": "stdout",
     "output_type": "stream",
     "text": [
      "Percentage of missing values in Marital Status column 0.2%\n"
     ]
    }
   ],
   "source": [
    "# Finding the percentage of missing values in Marital Status Column\n",
    "print(f\"Percentage of missing values in Marital Status column {(df.marital_status.isna().mean()*100).round(2)}%\")"
   ]
  },
  {
   "cell_type": "code",
   "execution_count": 48,
   "id": "931c3360-9cc2-44d1-8194-b340a4ad3ff0",
   "metadata": {},
   "outputs": [
    {
     "name": "stdout",
     "output_type": "stream",
     "text": [
      "Remaining missing values in Marital Status: 0\n"
     ]
    }
   ],
   "source": [
    "# Filling the marital status null values with undisclosed\n",
    "df[\"marital_status\"]=df[\"marital_status\"].fillna(\"Undisclosed\")\n",
    "\n",
    "# Check if all missing values are filled\n",
    "print(f\"Remaining missing values in Marital Status: {df['marital_status'].isna().sum()}\")\n",
    "\n"
   ]
  },
  {
   "cell_type": "markdown",
   "id": "29974f60-c82f-4329-9afd-4b2d142de041",
   "metadata": {},
   "source": [
    "**Assumptions:**\n",
    "***\n",
    "- Values seem to be missing completely at random\n",
    "- Imputing the missing values which are 0.2% of the dataset does not greatly bias the data"
   ]
  },
  {
   "cell_type": "markdown",
   "id": "889058b0-3bdd-4d50-95f1-cd42f9e07f7d",
   "metadata": {},
   "source": [
    "***\n",
    "**3.4.4. HANDLING MISSING VALUES IN EMPLOYMENT STATUS COLUMN**\n",
    "***"
   ]
  },
  {
   "cell_type": "code",
   "execution_count": 51,
   "id": "d48bc04a-7998-4d75-a24f-09c75fd2a1d2",
   "metadata": {},
   "outputs": [
    {
     "name": "stdout",
     "output_type": "stream",
     "text": [
      "Percentage of missing values in Employment Status column 0.31%\n"
     ]
    }
   ],
   "source": [
    "# Finding the percentage of missing values in Employment Status Column\n",
    "print(f\"Percentage of missing values in Employment Status column {(df.employment_status.isna().mean()*100).round(2)}%\")"
   ]
  },
  {
   "cell_type": "code",
   "execution_count": 52,
   "id": "a5c1d451-9795-4ebe-a33e-37b8444dfe11",
   "metadata": {},
   "outputs": [
    {
     "name": "stdout",
     "output_type": "stream",
     "text": [
      "Remaining missing values in Employment Status: 0\n"
     ]
    }
   ],
   "source": [
    "# Filling the employment  status null values with undisclosed\n",
    "df[\"employment_status\"]=df[\"employment_status\"].fillna(\"Undisclosed\")\n",
    "\n",
    "# Check if all missing values are filled\n",
    "print(f\"Remaining missing values in Employment Status: {df['employment_status'].isna().sum()}\")"
   ]
  },
  {
   "cell_type": "markdown",
   "id": "36307a1d-91d6-4545-ba11-fe1d1d655d6a",
   "metadata": {},
   "source": [
    "**Assumptions:**\n",
    "***\n",
    "- Values seem to be missing completely at random\n",
    "- Imputing the missing values which are 0.3% of the dataset does not greatly bias the data"
   ]
  },
  {
   "cell_type": "markdown",
   "id": "3d71d1ae-8fb4-4c86-a9e3-a7880f44c03c",
   "metadata": {},
   "source": [
    "***\n",
    "**3.4.5. HANDLING MISSING VALUES IN NUMBER OF CHILDREN COLUMN**\n",
    "***"
   ]
  },
  {
   "cell_type": "code",
   "execution_count": 55,
   "id": "4fd2efc6-196a-4bf0-878f-f7a44781ef1e",
   "metadata": {},
   "outputs": [
    {
     "name": "stdout",
     "output_type": "stream",
     "text": [
      "Percentage of missing values in Number of Children column 10.07%\n"
     ]
    }
   ],
   "source": [
    "# Finding the percentage of missing values in Number of Children Status Column\n",
    "print(f\"Percentage of missing values in Number of Children column {(df.no_of_children.isna().mean()*100).round(2)}%\")"
   ]
  },
  {
   "cell_type": "code",
   "execution_count": 56,
   "id": "45ee8bac-f1ee-4fb9-9241-ff3c8377214f",
   "metadata": {},
   "outputs": [
    {
     "data": {
      "text/plain": [
       "no_of_children\n",
       "2.0     0.245201\n",
       "3.0     0.185983\n",
       "0.0     0.171315\n",
       "1.0     0.154292\n",
       "4.0     0.082760\n",
       "5.0     0.076059\n",
       "6.0     0.039660\n",
       "8.0     0.017928\n",
       "7.0     0.013401\n",
       "9.0     0.007063\n",
       "10.0    0.001992\n",
       "11.0    0.001268\n",
       "12.0    0.001087\n",
       "15.0    0.000362\n",
       "16.0    0.000181\n",
       "36.0    0.000181\n",
       "52.0    0.000181\n",
       "22.0    0.000181\n",
       "14.0    0.000181\n",
       "24.0    0.000181\n",
       "19.0    0.000181\n",
       "13.0    0.000181\n",
       "68.0    0.000181\n",
       "Name: proportion, dtype: float64"
      ]
     },
     "execution_count": 56,
     "metadata": {},
     "output_type": "execute_result"
    }
   ],
   "source": [
    "df.no_of_children.value_counts(normalize=True)"
   ]
  },
  {
   "cell_type": "code",
   "execution_count": 57,
   "id": "e3dfe58c-48a6-488c-9625-05be8c22e462",
   "metadata": {},
   "outputs": [
    {
     "name": "stdout",
     "output_type": "stream",
     "text": [
      "Remaining missing values in Number of Children: 0\n"
     ]
    }
   ],
   "source": [
    "\n",
    "def calc_mode(series):\n",
    "    mode = series.mode()\n",
    "    return mode[0] \n",
    "    \n",
    "grouped_value=(df.groupby([\"gender\",\"age\",\"marital_status\",])[\"no_of_children\"].transform(calc_mode))\n",
    "df.no_of_children=df.no_of_children.fillna(grouped_value)\n",
    "print(f\"Remaining missing values in Number of Children: {df['no_of_children'].isna().sum()}\")"
   ]
  },
  {
   "cell_type": "code",
   "execution_count": 58,
   "id": "718eb081-41a0-4959-87b3-1b35f82828dc",
   "metadata": {},
   "outputs": [
    {
     "data": {
      "text/plain": [
       "no_of_children\n",
       "0.0     0.238599\n",
       "2.0     0.231922\n",
       "3.0     0.168404\n",
       "1.0     0.141694\n",
       "4.0     0.074430\n",
       "5.0     0.068893\n",
       "6.0     0.035831\n",
       "8.0     0.016124\n",
       "7.0     0.012052\n",
       "9.0     0.006352\n",
       "10.0    0.001792\n",
       "11.0    0.001140\n",
       "12.0    0.000977\n",
       "15.0    0.000326\n",
       "16.0    0.000163\n",
       "36.0    0.000163\n",
       "52.0    0.000163\n",
       "22.0    0.000163\n",
       "14.0    0.000163\n",
       "24.0    0.000163\n",
       "19.0    0.000163\n",
       "13.0    0.000163\n",
       "68.0    0.000163\n",
       "Name: proportion, dtype: float64"
      ]
     },
     "execution_count": 58,
     "metadata": {},
     "output_type": "execute_result"
    }
   ],
   "source": [
    "df.no_of_children.value_counts(normalize=True)"
   ]
  },
  {
   "cell_type": "code",
   "execution_count": 59,
   "id": "1d5dfe65-b6d4-4875-8afe-25c308200a97",
   "metadata": {},
   "outputs": [
    {
     "name": "stdout",
     "output_type": "stream",
     "text": [
      "Remaining missing values in Number of Children: 0\n"
     ]
    }
   ],
   "source": [
    "# Setting the bins\n",
    "bins=[0,1,2,3,4,5,6,7,8,9,100 ]\n",
    "\n",
    "# Setting the labels\n",
    "labels=[\"0\",\"1\",\"2\",\"3\",\"4\",\"5\",\"6\",\"7\",\"8\",\"9+\"]\n",
    "\n",
    "# Cutting the columns into bins\n",
    "df[\"no_of_children\"]=pd.cut(df[\"no_of_children\"],bins=bins, labels=labels, right=False)\n",
    "\n",
    "# Replacing null values with unknown\n",
    "# df[\"no_of_children\"] = df[\"no_of_children\"].cat.add_categories(['unknown']).fillna('unknown')\n",
    "\n",
    "print(f\"Remaining missing values in Number of Children: {df['no_of_children'].isna().sum()}\")\n"
   ]
  },
  {
   "cell_type": "code",
   "execution_count": 60,
   "id": "b26cc84b-ac9c-4f69-9cb4-bfb42f17426c",
   "metadata": {},
   "outputs": [
    {
     "data": {
      "text/plain": [
       "no_of_children\n",
       "0     1465\n",
       "2     1424\n",
       "3     1034\n",
       "1      870\n",
       "4      457\n",
       "5      423\n",
       "6      220\n",
       "8       99\n",
       "7       74\n",
       "9+      74\n",
       "Name: count, dtype: int64"
      ]
     },
     "execution_count": 60,
     "metadata": {},
     "output_type": "execute_result"
    }
   ],
   "source": [
    "df.no_of_children.value_counts()"
   ]
  },
  {
   "cell_type": "markdown",
   "id": "33549b33-58db-44fa-b26b-b9d1bbb7951f",
   "metadata": {},
   "source": [
    "**Assumptions:**\n",
    "***\n",
    "- Assumpution is the values are not missing at random, heirachial imputation was carried out using the age, gender and marital status to fill in the missing values"
   ]
  },
  {
   "cell_type": "markdown",
   "id": "ad9fb34e-5610-4820-ba91-01547478f1e6",
   "metadata": {},
   "source": [
    "***\n",
    "**3.4.6. HANDLING MISSING VALUES IN MONTHLY HOUSEHOLD INCOME COLUMN**\n",
    "***"
   ]
  },
  {
   "cell_type": "code",
   "execution_count": 63,
   "id": "1047e746-f918-4772-b0d1-c50718674bb0",
   "metadata": {},
   "outputs": [
    {
     "name": "stdout",
     "output_type": "stream",
     "text": [
      "Percentage of missing values in Monthly Household Income column 4.14%\n"
     ]
    }
   ],
   "source": [
    "# Finding the percentage of missing values in Monthly Household Income Column\n",
    "print(f\"Percentage of missing values in Monthly Household Income column {(df.monthly_household_income.isna().mean()*100).round(2)}%\")"
   ]
  },
  {
   "cell_type": "code",
   "execution_count": 64,
   "id": "90475d2d-190f-4b5f-9223-dadba3cd8532",
   "metadata": {},
   "outputs": [
    {
     "name": "stdout",
     "output_type": "stream",
     "text": [
      "Remaining missing values in Monthly Household Income: 0\n"
     ]
    }
   ],
   "source": [
    "# Fill NaN values with 'Less than 10000' for rows where 'employment_status' is 'Unemployed'\n",
    "df.loc[df[\"monthly_household_income\"].isna() & (df[\"employment_status\"] == \"Unemployed\") & (df[\"marital_status\"]==\"Single\"), \"monthly_household_income\"] = \"Less than 10000\"\n",
    "\n",
    "# Filling the Monthly Household Income null values with undisclosed\n",
    "df[\"monthly_household_income\"]=df[\"monthly_household_income\"].fillna(\"Undisclosed\")\n",
    "\n",
    "print(f\"Remaining missing values in Monthly Household Income: {df['monthly_household_income'].isna().sum()}\")\n",
    "\n"
   ]
  },
  {
   "cell_type": "markdown",
   "id": "240ca4d7-f688-4d11-b6f2-46ba5acdfbba",
   "metadata": {},
   "source": [
    "**Assumptions:**\n",
    "***\n",
    "- Assuming some values are missing not at random, we assume that someone who is unemployed and single will have an income of less than 10000\n",
    "- Remaining missing values are undisclosed"
   ]
  },
  {
   "cell_type": "markdown",
   "id": "82c81720-6090-49c1-825c-0397d1955f7d",
   "metadata": {},
   "source": [
    "***\n",
    "**3.4.7. HANDLING MISSING VALUES IN HAD HEALTH INSURANCE? COLUMN**\n",
    "***"
   ]
  },
  {
   "cell_type": "code",
   "execution_count": 67,
   "id": "ef9c2ac7-75dd-4d7d-b343-011127c6ee49",
   "metadata": {},
   "outputs": [
    {
     "name": "stdout",
     "output_type": "stream",
     "text": [
      "Percentage of missing values in Had Health Insurance column 0.23%\n"
     ]
    }
   ],
   "source": [
    "# Finding the percentage of missing values in Had Health Insurance  Column\n",
    "print(f\"Percentage of missing values in Had Health Insurance column {(df['had_health_insurance?'].isna().mean()*100).round(2)}%\")"
   ]
  },
  {
   "cell_type": "code",
   "execution_count": 68,
   "id": "0e2eee76-da9f-4215-8960-755153cd05e7",
   "metadata": {},
   "outputs": [
    {
     "name": "stdout",
     "output_type": "stream",
     "text": [
      "Remaining missing values in Had Health Insurance column: 0\n"
     ]
    }
   ],
   "source": [
    "#\n",
    "df.loc[(df['had_health_insurance?'].isna() & (df['insurer'].notnull()), 'had_health_insurance?')] = \"Yes\"\n",
    "\n",
    "#\n",
    "df['had_health_insurance?']=df['had_health_insurance?'].fillna(\"Undisclosed\")\n",
    "\n",
    "print(f\"Remaining missing values in Had Health Insurance column: {df['had_health_insurance?'].isna().sum()}\")\n",
    " "
   ]
  },
  {
   "cell_type": "markdown",
   "id": "1bd3dcf9-d5de-4daf-8ac4-71983a579e0c",
   "metadata": {},
   "source": [
    "**Assumptions:**\n",
    "***\n",
    "- Assuming some values are missing not at random, we assume that if there is a missing value in the had health insurance column yet the insurer name has been filled, then the missing value should actually be Yes\n",
    "- Remaining missing values are undisclosed"
   ]
  },
  {
   "cell_type": "markdown",
   "id": "4a03d8ac-5543-4746-872f-ce7a5cab75dc",
   "metadata": {},
   "source": [
    "***\n",
    "**3.4.8. HANDLING MISSING VALUES IN INSURER COLUMN**\n",
    "***"
   ]
  },
  {
   "cell_type": "code",
   "execution_count": 71,
   "id": "de0bf4f5-69c2-4e33-b490-df1b55708ed4",
   "metadata": {},
   "outputs": [
    {
     "name": "stdout",
     "output_type": "stream",
     "text": [
      "Percentage of missing values in Insurer column 0.73%\n"
     ]
    }
   ],
   "source": [
    "# Finding the percentage of missing values in Insurer Column\n",
    "print(f\"Percentage of missing values in Insurer column {(df['insurer'].isna().mean()*100).round(2)}%\")"
   ]
  },
  {
   "cell_type": "code",
   "execution_count": 72,
   "id": "4d604290-70f8-4bd4-bcde-ea695e7152db",
   "metadata": {},
   "outputs": [
    {
     "name": "stdout",
     "output_type": "stream",
     "text": [
      "Remaining missing values in Insurer column: 0\n"
     ]
    }
   ],
   "source": [
    "#\n",
    "df.insurer=df.insurer.fillna(\"UNDISCLOSED\")\n",
    "\n",
    "print(f\"Remaining missing values in Insurer column: {df['insurer'].isna().sum()}\")"
   ]
  },
  {
   "cell_type": "markdown",
   "id": "8dc3cb83-2c30-402c-a729-b9eaba58511a",
   "metadata": {},
   "source": [
    "\n",
    "**Assumptions:**\n",
    "***\n",
    "- Assuming values are missing completely at random, the missing values were filled in with undisclosed"
   ]
  },
  {
   "cell_type": "markdown",
   "id": "812c968b-6c0a-4fad-bf6c-46dfb5d0ea94",
   "metadata": {},
   "source": [
    "***\n",
    "**3.4.8. HANDLING MISSING VALUES IN MONTHS SINCE LAST VISIT COLUMN**\n",
    "***"
   ]
  },
  {
   "cell_type": "code",
   "execution_count": 75,
   "id": "f1aa8af3-c96a-4c1f-bed6-330aa6cf816c",
   "metadata": {},
   "outputs": [
    {
     "name": "stdout",
     "output_type": "stream",
     "text": [
      "Percentage of missing values in Months since last hospital visit column 2.51%\n"
     ]
    }
   ],
   "source": [
    "# Finding the percentage of missing values in Insurer Column\n",
    "print(f\"Percentage of missing values in Months since last hospital visit column {(df['months_since_last_hospital_visit'].isna().mean()*100).round(2)}%\")"
   ]
  },
  {
   "cell_type": "code",
   "execution_count": 76,
   "id": "22950ddc-07e0-4c60-ad7a-170c7a15453f",
   "metadata": {},
   "outputs": [
    {
     "name": "stdout",
     "output_type": "stream",
     "text": [
      "Remaining missing values in years since last hospital visit: 0\n"
     ]
    },
    {
     "data": {
      "text/plain": [
       "years_since_last_hospital_visit\n",
       "0-1 year     5201\n",
       "1-2 years     618\n",
       "unknown       154\n",
       "2-3 years     116\n",
       "3-4 years      34\n",
       "4-5 years      13\n",
       "5+ years        4\n",
       "Name: count, dtype: int64"
      ]
     },
     "execution_count": 76,
     "metadata": {},
     "output_type": "execute_result"
    }
   ],
   "source": [
    "# Creating column with years since last visit instead of months\n",
    "df['years_since_last_hospital_visit'] = (df['months_since_last_hospital_visit'] / 12).round(2)\n",
    "\n",
    "# Define the year bins and labels\n",
    "bins = [0, 1, 2, 3, 4, 5, 10]\n",
    "labels=[\"0-1 year\",\"1-2 years\",\"2-3 years\",\"3-4 years\",\"4-5 years\",\"5+ years\"]\n",
    "\n",
    "# Bin the 'years_since_last_hospital_visit' data into these intervals\n",
    "df['years_since_last_hospital_visit'] = pd.cut(df['years_since_last_hospital_visit'], bins=bins,labels=labels, right=False)\n",
    "\n",
    "#Replacing null values with unknown\n",
    "df[\"years_since_last_hospital_visit\"] = df[\"years_since_last_hospital_visit\"].cat.add_categories(['unknown']).fillna('unknown')\n",
    "\n",
    "print(f\"Remaining missing values in years since last hospital visit: {df['years_since_last_hospital_visit'].isna().sum()}\")\n",
    "\n",
    "df['years_since_last_hospital_visit'].value_counts()"
   ]
  },
  {
   "cell_type": "code",
   "execution_count": 77,
   "id": "127bbdba-968e-46d2-ad34-062f07625bc6",
   "metadata": {},
   "outputs": [
    {
     "name": "stdout",
     "output_type": "stream",
     "text": [
      "Remaining missing values in 6 month interval: 0\n"
     ]
    },
    {
     "data": {
      "text/plain": [
       "six_month_intervals\n",
       "0.5-1 years     1941\n",
       "0-0.5 years     1783\n",
       "1-1.5 years     1056\n",
       "1.5-2 years      421\n",
       "2-2.5 years      348\n",
       "unknown          154\n",
       "2.5-3 years      124\n",
       "3-3.5 years       97\n",
       "4-4.5 years       87\n",
       "3.5-4 years       49\n",
       "6-6.5 years       27\n",
       "4.5-5 years       13\n",
       "5-5.5 years       10\n",
       "8.5-9 years        7\n",
       "8-8.5 years        6\n",
       "5.5-6 years        6\n",
       "7-7.5 years        4\n",
       "10+ years          4\n",
       "6.5-7 years        3\n",
       "7.5-8 years        0\n",
       "9-9.5 years        0\n",
       "9.5-10 years       0\n",
       "Name: count, dtype: int64"
      ]
     },
     "execution_count": 77,
     "metadata": {},
     "output_type": "execute_result"
    }
   ],
   "source": [
    "# Creating column with bi annual visit instead of months\n",
    "df['six_month_intervals'] = (df['months_since_last_hospital_visit'] / 6).round(2)\n",
    "\n",
    "bins = [ 0, 0.5, 1, 1.5, 2, 2.5, 3, 3.5, 4, 4.5, 5, 5.5, 6, 6.5, 7, 7.5, 8, 8.5, 9, 9.5,10, 2025]\n",
    "\n",
    "# Define the labels for each bin\n",
    "labels = ['0-0.5 years', '0.5-1 years', '1-1.5 years', '1.5-2 years', '2-2.5 years', \n",
    "          '2.5-3 years', '3-3.5 years', '3.5-4 years', '4-4.5 years', '4.5-5 years', \n",
    "          '5-5.5 years', '5.5-6 years', '6-6.5 years', '6.5-7 years', '7-7.5 years', \n",
    "          '7.5-8 years', '8-8.5 years', '8.5-9 years', '9-9.5 years', '9.5-10 years', '10+ years']\n",
    "\n",
    "# Bin the 'years_since_last_hospital_visit' data into these intervals\n",
    "df['six_month_intervals'] = pd.cut(df['six_month_intervals'], bins=bins, labels=labels, right=False)\n",
    "\n",
    "# Replacing null values with unknown\n",
    "df[\"six_month_intervals\"] = df[\"six_month_intervals\"].cat.add_categories(['unknown']).fillna('unknown')\n",
    "\n",
    "print(f\"Remaining missing values in 6 month interval: {df['six_month_intervals'].isna().sum()}\")\n",
    "\n",
    "df['months_since_last_hospital_visit']=df['months_since_last_hospital_visit'].fillna(\"Unknown\")\n",
    "\n",
    "df['six_month_intervals'].value_counts()"
   ]
  },
  {
   "cell_type": "markdown",
   "id": "3d5fe42c-9a83-4a5e-9860-e9793c5cfb0c",
   "metadata": {},
   "source": [
    "\n",
    "**Assumptions:**\n",
    "***\n",
    "- Assuming values are missing completely at random, the missing values were filled in with unknown\n",
    "- Data has been split into annual and bi annual splits as this will provide better data interpretation"
   ]
  },
  {
   "cell_type": "markdown",
   "id": "0d28aa5e-5c5e-402e-8c17-c3060320e2d2",
   "metadata": {},
   "source": [
    "***\n",
    "**3.4.9. HANDLING MISSING VALUES IN HAD INSURANCE DURING LAST HOSPITAL VISIT COLUMN**\n",
    "***"
   ]
  },
  {
   "cell_type": "code",
   "execution_count": 80,
   "id": "eb5c73ea-512b-4ae9-b083-2d693af6ebfe",
   "metadata": {},
   "outputs": [
    {
     "name": "stdout",
     "output_type": "stream",
     "text": [
      "Percentage of missing values in had insurance during last hospital visit column 0.85%\n"
     ]
    }
   ],
   "source": [
    "# Finding the percentage of missing values in had insurance during last hospital visit column\n",
    "print(f\"Percentage of missing values in had insurance during last hospital visit column {(df['had_health_insurance_during_visit?'].isna().mean()*100).round(2)}%\")"
   ]
  },
  {
   "cell_type": "code",
   "execution_count": 81,
   "id": "c8e1e8b6-87b7-4652-85b3-400d9eeb4cca",
   "metadata": {},
   "outputs": [
    {
     "name": "stdout",
     "output_type": "stream",
     "text": [
      "<class 'pandas.core.frame.DataFrame'>\n",
      "Index: 6140 entries, 1 to 6158\n",
      "Data columns (total 23 columns):\n",
      " #   Column                              Non-Null Count  Dtype         \n",
      "---  ------                              --------------  -----         \n",
      " 0   location                            5793 non-null   object        \n",
      " 1   location_latitude                   5793 non-null   float64       \n",
      " 2   location_longitude                  5793 non-null   float64       \n",
      " 3   location_altitude                   5793 non-null   float64       \n",
      " 4   location_precision                  5793 non-null   float64       \n",
      " 5   date_and_time                       5998 non-null   datetime64[ns]\n",
      " 6   age                                 6140 non-null   object        \n",
      " 7   gender                              6140 non-null   object        \n",
      " 8   marital_status                      6140 non-null   object        \n",
      " 9   no_of_children                      6140 non-null   category      \n",
      " 10  employment_status                   6140 non-null   object        \n",
      " 11  monthly_household_income            6140 non-null   object        \n",
      " 12  had_health_insurance?               6140 non-null   object        \n",
      " 13  insurer                             6140 non-null   object        \n",
      " 14  months_since_last_hospital_visit    6140 non-null   object        \n",
      " 15  had_health_insurance_during_visit?  6088 non-null   object        \n",
      " 16  had_routine_checkup_with_doctor     6121 non-null   object        \n",
      " 17  years_since_last_checkup            6101 non-null   object        \n",
      " 18  had_cancer_screening?               6114 non-null   object        \n",
      " 19  years_since_last_cancer_screening   6095 non-null   object        \n",
      " 20  submission_time                     6140 non-null   datetime64[ns]\n",
      " 21  years_since_last_hospital_visit     6140 non-null   category      \n",
      " 22  six_month_intervals                 6140 non-null   category      \n",
      "dtypes: category(3), datetime64[ns](2), float64(4), object(14)\n",
      "memory usage: 1.0+ MB\n"
     ]
    }
   ],
   "source": [
    "df.info()"
   ]
  },
  {
   "cell_type": "code",
   "execution_count": 82,
   "id": "0c54eb4e-ad79-444e-9008-df65eb5498ec",
   "metadata": {},
   "outputs": [
    {
     "name": "stdout",
     "output_type": "stream",
     "text": [
      "Remaining missing values in had insurance during last hospital visit column: 0\n"
     ]
    }
   ],
   "source": [
    "# Assumption\n",
    "df.loc[df['had_health_insurance?']==\"No\", 'had_health_insurance_during_visit?']= \"No\"\n",
    "\n",
    "df[\"had_health_insurance_during_visit?\"]=df[\"had_health_insurance_during_visit?\"].fillna(\"Undisclosed\")\n",
    "\n",
    "print(f\"Remaining missing values in had insurance during last hospital visit column: {df['had_health_insurance_during_visit?'].isna().sum()}\")"
   ]
  },
  {
   "cell_type": "markdown",
   "id": "2c8444e7-92d5-47a9-b200-99bae8d0b2c9",
   "metadata": {},
   "source": [
    "**Assumptions:**\n",
    "***\n",
    "- Assuming some values are missing not at random, we assume that if the person has never had health insurance then they also did not have insurance during their last hospital visit\n",
    "- All other missing values are grouped as undisclosed"
   ]
  },
  {
   "cell_type": "markdown",
   "id": "ac83439b-6360-442c-a176-e1297bbf0aed",
   "metadata": {},
   "source": [
    "***\n",
    "**3.4.10. HANDLING MISSING VALUES IN HAD ROUTINE CHECK UP WITH DOCTOR COLUMN**\n",
    "***"
   ]
  },
  {
   "cell_type": "code",
   "execution_count": 85,
   "id": "b6519b0b-b62d-4712-acb0-3a815881bb95",
   "metadata": {},
   "outputs": [
    {
     "name": "stdout",
     "output_type": "stream",
     "text": [
      "Percentage of missing values in had routine checkup with doctor column 0.31%\n"
     ]
    }
   ],
   "source": [
    "# Finding the percentage of missing values in had routine checkup with doctor column\n",
    "print(f\"Percentage of missing values in had routine checkup with doctor column {(df['had_routine_checkup_with_doctor'].isna().mean()*100).round(2)}%\")"
   ]
  },
  {
   "cell_type": "code",
   "execution_count": 86,
   "id": "0f6b918e-b3c0-4e9f-a358-4df3cf861bc3",
   "metadata": {},
   "outputs": [
    {
     "name": "stdout",
     "output_type": "stream",
     "text": [
      "Remaining missing values in had routine checkup with doctor column: 0\n"
     ]
    }
   ],
   "source": [
    "#\n",
    "df[\"had_routine_checkup_with_doctor\"]= df[\"had_routine_checkup_with_doctor\"].fillna(\"Undisclosed\")\n",
    "\n",
    "print(f\"Remaining missing values in had routine checkup with doctor column: {df['had_routine_checkup_with_doctor'].isna().sum()}\")"
   ]
  },
  {
   "cell_type": "markdown",
   "id": "bf2df0c8-b077-4cbc-9f02-7992dd63a8d1",
   "metadata": {},
   "source": [
    "\n",
    "**Assumptions:**\n",
    "***\n",
    "- Assuming values are missing completely at random, the missing values were filled in with undisclosed\n"
   ]
  },
  {
   "cell_type": "markdown",
   "id": "78bc188b-614b-4035-92c8-5117f13862a8",
   "metadata": {},
   "source": [
    "***\n",
    "**3.4.11 HANDLING MISSING VALUES IN YEARS SINCE LAST CHECKUP COLUMN**\n",
    "***"
   ]
  },
  {
   "cell_type": "code",
   "execution_count": 89,
   "id": "63ddbdc5-8f8d-461c-a3a3-80091fccb7ec",
   "metadata": {},
   "outputs": [
    {
     "name": "stdout",
     "output_type": "stream",
     "text": [
      "Percentage of missing values in years since last cehckup column 0.64%\n"
     ]
    }
   ],
   "source": [
    "# Finding the percentage of missing values in years since last cehckup column\n",
    "print(f\"Percentage of missing values in years since last cehckup column {(df['years_since_last_checkup'].isna().mean()*100).round(2)}%\")"
   ]
  },
  {
   "cell_type": "code",
   "execution_count": 90,
   "id": "556f04a2-6e61-4b6c-94fd-4d909a5fcd57",
   "metadata": {},
   "outputs": [
    {
     "name": "stdout",
     "output_type": "stream",
     "text": [
      "Remaining missing values in years since last routine checkup column: 0\n"
     ]
    }
   ],
   "source": [
    "# Filling in undisclosed for the missing values\n",
    "df.years_since_last_checkup=df.years_since_last_checkup.fillna(\"Undisclosed\")\n",
    "\n",
    "print(f\"Remaining missing values in years since last routine checkup column: {df['years_since_last_checkup'].isna().sum()}\")"
   ]
  },
  {
   "cell_type": "markdown",
   "id": "9adc3f68-5bdc-49a7-b348-9998525ca8bc",
   "metadata": {},
   "source": [
    "**Assumptions:**\n",
    "***\n",
    "- Assuming values are missing completely at random, the missing values were filled in with undisclosed"
   ]
  },
  {
   "cell_type": "markdown",
   "id": "7b0969de-48ba-45a5-91f6-22c7df7ad36a",
   "metadata": {},
   "source": [
    "***\n",
    "**3.4.12 HANDLING MISSING VALUES IN HAD CANCER SCREENING COLUMN**\n",
    "***"
   ]
  },
  {
   "cell_type": "code",
   "execution_count": 93,
   "id": "e3eb50ee-9d69-4a1e-8aec-fde69efa3631",
   "metadata": {},
   "outputs": [
    {
     "name": "stdout",
     "output_type": "stream",
     "text": [
      "Percentage of missing values in have you ever had cancer screening column: 0.42%\n"
     ]
    }
   ],
   "source": [
    "# Finding the percentage of missing values in have you ever had cancer screening column\n",
    "print(f\"Percentage of missing values in have you ever had cancer screening column: {(df['had_cancer_screening?'].isna().mean()*100).round(2)}%\")"
   ]
  },
  {
   "cell_type": "code",
   "execution_count": 94,
   "id": "a73d5bbe-1e44-4648-8bab-c0cfca4c601a",
   "metadata": {},
   "outputs": [
    {
     "name": "stdout",
     "output_type": "stream",
     "text": [
      "Remaining missing values in have you ever had cancer screening column: 0\n"
     ]
    }
   ],
   "source": [
    "\n",
    "df.loc[(df['had_cancer_screening?'].isna() & df['years_since_last_cancer_screening'].notnull()), 'had_cancer_screening?'] = \"Yes\"\n",
    "\n",
    "df[\"had_cancer_screening?\"]=df[\"had_cancer_screening?\"].fillna(\"Undisclosed\")\n",
    "\n",
    "print(f\"Remaining missing values in have you ever had cancer screening column: {df['had_cancer_screening?'].isna().sum()}\")\n"
   ]
  },
  {
   "cell_type": "markdown",
   "id": "fa19a6b1-6138-4647-b2b4-63fe5737a16f",
   "metadata": {},
   "source": [
    "**Assumptions:**\n",
    "***\n",
    "- Assuming some values are missing not at random, we assume that if the ever had cancer screening column is null yet the years since last cancer screening has been indicated, it implies that the person has had cancer screening and it is filled in as Yes\n",
    "- All other missing values are grouped as undisclosed"
   ]
  },
  {
   "cell_type": "markdown",
   "id": "128c53b8-66b9-47b8-a24e-e4655a1a93c6",
   "metadata": {},
   "source": [
    "***\n",
    "**3.4.12 HANDLING MISSING VALUES IN YEARS SINCE LAST CANCER SCREENING COLUMN**\n",
    "***"
   ]
  },
  {
   "cell_type": "code",
   "execution_count": 97,
   "id": "6895eff3-e87a-45fc-887a-768894c2ec63",
   "metadata": {
    "panel-layout": {
     "height": 27.140625,
     "visible": true,
     "width": 100
    }
   },
   "outputs": [
    {
     "name": "stdout",
     "output_type": "stream",
     "text": [
      "Percentage of missing values in years since last cancer screening column 0.73%\n"
     ]
    }
   ],
   "source": [
    "# Finding the percentage of missing values in years since last cancer screening column\n",
    "print(f\"Percentage of missing values in years since last cancer screening column {(df['years_since_last_cancer_screening'].isna().mean()*100).round(2)}%\")"
   ]
  },
  {
   "cell_type": "code",
   "execution_count": 98,
   "id": "93cfb3aa-eefb-4895-bb19-5ed647c93a48",
   "metadata": {},
   "outputs": [
    {
     "name": "stdout",
     "output_type": "stream",
     "text": [
      "Remaining missing values in in years since last cancer screening column: 0\n"
     ]
    }
   ],
   "source": [
    "df[\"years_since_last_cancer_screening\"]=df[\"years_since_last_cancer_screening\"].fillna(\"Undisclosed\")\n",
    "\n",
    "print(f\"Remaining missing values in in years since last cancer screening column: {df['years_since_last_cancer_screening'].isna().sum()}\")"
   ]
  },
  {
   "cell_type": "markdown",
   "id": "2962e4e2-6316-4c8e-bd21-10f1f190d0ce",
   "metadata": {
    "panel-layout": {
     "height": 632,
     "visible": true,
     "width": 100
    }
   },
   "source": [
    "**Assumptions:**\n",
    "***\n",
    "- Assuming values are missing completely at random, the missing values were filled in with undisclosed"
   ]
  },
  {
   "cell_type": "markdown",
   "id": "8a11c22d-368e-4808-80b0-f3f646eea84c",
   "metadata": {},
   "source": [
    "***\n",
    "### 3.3 FEATURE ENGINEERING\n",
    "***"
   ]
  },
  {
   "cell_type": "code",
   "execution_count": 101,
   "id": "843bc667-25bb-4312-9a1f-f4b6f9dd56d6",
   "metadata": {},
   "outputs": [],
   "source": [
    "# list of insurances to map correctly\n",
    "insurance_mapping={\n",
    "    \"CIC MEDICAL\":\"CIC\",\"DIRECT LINE\":\"DIRECTLINE\",\"APA AFYA NAFUU\":\"APA\",\"AFYA\":\"APA\",\n",
    "    \"MHIF\":\"NHIF\",\"NHIT\":\"NHIF\", \"SAMLAM\":\"SANLAM\",\"KENNEDIN\":\"KENINDIA\",\"HIF\":\"NHIF\",\n",
    "    \"BRIT\":\"BRITAM\", \"NHIF.\":\"NHIF\", \"THE NATIONAL HOSPITAL  FUND (NHIF)\":\"NHIF\", \"APA .\":\"APA\", \n",
    "    \"KENNIDA\":\"KENINDIA\", \"N\":\"NHIF\", \"JUBILEE S\":\"JUBILEE\", \"ARA\":\"AAR\", \"NGIF\":\"NHIF\",\n",
    "    \"NSSF\":\"NHIF\", \"OLD MUTUAL.\":\"OLD MUTUAL\", \"MARTENITY\":\"NHIF\", \"MATERNITY\":\"NHIF\", \"LINDA MAMA\":\"NHIF\", \n",
    "    \"NHIF,NSSF\":\"NHIF\",\"NHIF, NSSF\":\"NHIF\",\", NHIF\":\"NHIF\",\"AON NHIF\":\"AON,NHIF\",\n",
    "    \"NHIF AND BRITAM\":\"NHIF, BRITAM\",\"KENNEDIN\":\"KENINDIA\",\"JUBILEE INSURANCES\":\"JUBILEE\",\n",
    "    \"NHIF EQUITY\":\"NHIF,EQUITY\",\"UAP OLD MUTUAL\":\"UAP,OLD MUTUAL\",\"OLD MUTUAL, \\nNHIF\\nJUBILEE\":\"OLD MUTUAL,NHIF\\nJUBILEE\",\n",
    "    \"NSSF, APA INSURANCE, NHIF\":\"APA INSURANCE, NHIF\",\"LINDA MAMA , NHIF\":\"NHIF\",\"AON\":\"AON MINET\",\"MINET\":\"AON\",\"\":\"\",\"\":\"\",\n",
    "}\n",
    "\n",
    "# Performing mapping on the insurer column\n",
    "df.insurer= df.insurer.replace(insurance_mapping)\n"
   ]
  },
  {
   "cell_type": "code",
   "execution_count": 102,
   "id": "10c07ee4-4100-4d2c-9e37-ebc5e9a0d64d",
   "metadata": {},
   "outputs": [],
   "source": [
    "# Function to prioritize NHIF to the first position in the list\n",
    "def prioritize_nhif(lst):    \n",
    "    lst = [item.strip() for item in lst]\n",
    "    if 'NHIF' in lst:\n",
    "        lst.remove('NHIF')\n",
    "        lst.insert(0, 'NHIF')   \n",
    "    return lst\n",
    "\n",
    "# Split the 'insurer' column into a list of insurers and create a new column splits_insurer\n",
    "df['splits_insurer'] = df['insurer'].str.split(r'[\\n,]+')\n",
    "\n",
    "# Apply the prioritize_nhif function to each list in the splits_insurer column\n",
    "df['splits_insurer'] = df['splits_insurer'].apply(prioritize_nhif)\n",
    "\n",
    "# Now split the splits_insurer column again to separate them into individual columns\n",
    "df_split = df['splits_insurer'].apply(pd.Series)\n",
    "\n",
    "# Rename columns for clarity\n",
    "df_split.columns = ['insurer_1', 'insurer_2', 'insurer_3']\n",
    "\n",
    "# Extra words to remove from the column\n",
    "words_to_remove=[\"INSURANCE\", \"BANK\", \"CARE\",\"COMPANY\", \"PLC\", \"COVER\", \"GROUP\",\"LIMITED\",\"LTD\",\"KENYA\",\"OF\",\"HOLDINGS\"]\n",
    "\n",
    "\n",
    "joined=\"|\".join(words_to_remove)\n",
    "\n",
    "# Removing the extra words and performing mapping on the words that are left\n",
    "df_split[\"insurer_1\"]=df_split[\"insurer_1\"].str.replace(joined,\"\",regex=True).str.strip().replace(insurance_mapping)\n",
    "df_split[\"insurer_2\"]=df_split[\"insurer_2\"].str.replace(joined,\"\",regex=True).str.strip().replace(insurance_mapping)\n",
    "df_split[\"insurer_3\"]=df_split[\"insurer_3\"].str.replace(joined,\"\",regex=True).str.strip().replace(insurance_mapping)\n",
    "\n",
    "# Combining all entries with less than 2 value counts to others\n",
    "df_split[\"insurer_1\"]= df_split[\"insurer_1\"].apply(lambda x: x if df_split.insurer_1.value_counts()[x] >=2 else \"OTHERS\")\n",
    "\n",
    "# Filling all the null values with NOT APPLICABLE\n",
    "df_split.loc[df_split.insurer_2.isna(), \"insurer_2\"]=\"NOT APPLICABLE\"\n",
    "df_split.loc[df_split.insurer_3.isna(), \"insurer_3\"]=\"NOT APPLICABLE\"\n",
    "\n",
    "\n",
    "# # Merge the split columns back with the original DataFrame\n",
    "df = pd.concat([df, df_split], axis=1)"
   ]
  },
  {
   "cell_type": "code",
   "execution_count": 103,
   "id": "d374d5e4-6704-4698-bc19-52250b80acf7",
   "metadata": {},
   "outputs": [
    {
     "data": {
      "text/plain": [
       "insurer_1\n",
       "NHIF           2863\n",
       "NOT_INSURED    2528\n",
       "JUBILEE         129\n",
       "BRITAM          104\n",
       "APA             100\n",
       "MAKUENI          84\n",
       "MADISON          54\n",
       "CIC              52\n",
       "UNDISCLOSED      45\n",
       "OTHERS           30\n",
       "AON MINET        26\n",
       "AAR              26\n",
       "DIRECTLINE       17\n",
       "HEALTH           13\n",
       "UON               9\n",
       "COOPERATIVE       9\n",
       "PERSONAL          8\n",
       "UAP               6\n",
       "LIFE              6\n",
       "SANLAM            4\n",
       "ABSA              3\n",
       "EQUITY AFIA       3\n",
       "SIDIAN            3\n",
       "OLD MUTUAL        3\n",
       "KENINDIA          3\n",
       "M TIBA            3\n",
       "CITAM             3\n",
       "NPS               2\n",
       "KCB               2\n",
       "INPATIENT         2\n",
       "Name: count, dtype: int64"
      ]
     },
     "execution_count": 103,
     "metadata": {},
     "output_type": "execute_result"
    }
   ],
   "source": [
    "df.insurer_1.value_counts()"
   ]
  },
  {
   "cell_type": "code",
   "execution_count": 104,
   "id": "13b5aee3-2596-40db-bbc1-5e42bae778fb",
   "metadata": {},
   "outputs": [
    {
     "data": {
      "text/plain": [
       "insurer_2\n",
       "NOT APPLICABLE    6067\n",
       "BRITAM              21\n",
       "JUBILEE             17\n",
       "APA                 11\n",
       "AON MINET            8\n",
       "OLD MUTUAL           4\n",
       "EQUITY AFIA          3\n",
       "MADISON              2\n",
       "CIC                  2\n",
       "ATTACHED             1\n",
       "FIRST                1\n",
       "TSC                  1\n",
       "ATTACHMENT           1\n",
       "EQUITY               1\n",
       "Name: count, dtype: int64"
      ]
     },
     "execution_count": 104,
     "metadata": {},
     "output_type": "execute_result"
    }
   ],
   "source": [
    "df.insurer_2.value_counts()\n"
   ]
  },
  {
   "cell_type": "code",
   "execution_count": 105,
   "id": "f30c97ad-a6f4-46ca-a467-446b230300e1",
   "metadata": {},
   "outputs": [
    {
     "data": {
      "text/plain": [
       "insurer_3\n",
       "NOT APPLICABLE    6135\n",
       "JUBILEE              3\n",
       "OLD MUTUAL           1\n",
       "BRITAM               1\n",
       "Name: count, dtype: int64"
      ]
     },
     "execution_count": 105,
     "metadata": {},
     "output_type": "execute_result"
    }
   ],
   "source": [
    "df.insurer_3.value_counts()\n"
   ]
  },
  {
   "cell_type": "code",
   "execution_count": 106,
   "id": "cb47642b-a07e-43fa-b476-b4c3ed29eac8",
   "metadata": {},
   "outputs": [
    {
     "data": {
      "text/plain": [
       "location                              347\n",
       "location_latitude                     347\n",
       "location_longitude                    347\n",
       "location_altitude                     347\n",
       "location_precision                    347\n",
       "date_and_time                         142\n",
       "age                                     0\n",
       "gender                                  0\n",
       "marital_status                          0\n",
       "no_of_children                          0\n",
       "employment_status                       0\n",
       "monthly_household_income                0\n",
       "had_health_insurance?                   0\n",
       "insurer                                 0\n",
       "months_since_last_hospital_visit        0\n",
       "had_health_insurance_during_visit?      0\n",
       "had_routine_checkup_with_doctor         0\n",
       "years_since_last_checkup                0\n",
       "had_cancer_screening?                   0\n",
       "years_since_last_cancer_screening       0\n",
       "submission_time                         0\n",
       "years_since_last_hospital_visit         0\n",
       "six_month_intervals                     0\n",
       "splits_insurer                          0\n",
       "insurer_1                               0\n",
       "insurer_2                               0\n",
       "insurer_3                               0\n",
       "dtype: int64"
      ]
     },
     "execution_count": 106,
     "metadata": {},
     "output_type": "execute_result"
    }
   ],
   "source": [
    "df.isna().sum()"
   ]
  },
  {
   "cell_type": "code",
   "execution_count": 107,
   "id": "49455595-8e5d-47df-abc1-63033300046b",
   "metadata": {},
   "outputs": [],
   "source": [
    "# List of columns to drop\n",
    "columns_to_drop=[\"insurer\",\"splits_insurer\",\"months_since_last_hospital_visit\",\"submission_time\",\"date_and_time\"]\n",
    "\n",
    "# Dropping these columns\n",
    "df.drop(columns=columns_to_drop, axis=1, inplace= True)"
   ]
  },
  {
   "cell_type": "code",
   "execution_count": 108,
   "id": "e025b2ec-4548-4c2f-b447-c435a62505fb",
   "metadata": {},
   "outputs": [
    {
     "name": "stdout",
     "output_type": "stream",
     "text": [
      "<class 'pandas.core.frame.DataFrame'>\n",
      "Index: 6140 entries, 1 to 6158\n",
      "Data columns (total 22 columns):\n",
      " #   Column                              Non-Null Count  Dtype   \n",
      "---  ------                              --------------  -----   \n",
      " 0   location                            5793 non-null   object  \n",
      " 1   location_latitude                   5793 non-null   float64 \n",
      " 2   location_longitude                  5793 non-null   float64 \n",
      " 3   location_altitude                   5793 non-null   float64 \n",
      " 4   location_precision                  5793 non-null   float64 \n",
      " 5   age                                 6140 non-null   object  \n",
      " 6   gender                              6140 non-null   object  \n",
      " 7   marital_status                      6140 non-null   object  \n",
      " 8   no_of_children                      6140 non-null   category\n",
      " 9   employment_status                   6140 non-null   object  \n",
      " 10  monthly_household_income            6140 non-null   object  \n",
      " 11  had_health_insurance?               6140 non-null   object  \n",
      " 12  had_health_insurance_during_visit?  6140 non-null   object  \n",
      " 13  had_routine_checkup_with_doctor     6140 non-null   object  \n",
      " 14  years_since_last_checkup            6140 non-null   object  \n",
      " 15  had_cancer_screening?               6140 non-null   object  \n",
      " 16  years_since_last_cancer_screening   6140 non-null   object  \n",
      " 17  years_since_last_hospital_visit     6140 non-null   category\n",
      " 18  six_month_intervals                 6140 non-null   category\n",
      " 19  insurer_1                           6140 non-null   object  \n",
      " 20  insurer_2                           6140 non-null   object  \n",
      " 21  insurer_3                           6140 non-null   object  \n",
      "dtypes: category(3), float64(4), object(15)\n",
      "memory usage: 978.8+ KB\n"
     ]
    }
   ],
   "source": [
    "df.info()"
   ]
  },
  {
   "cell_type": "code",
   "execution_count": 109,
   "id": "b30bd51c-8ea5-43da-bb1e-059269ed0e7e",
   "metadata": {},
   "outputs": [],
   "source": [
    "# saving the cleaned_data to an excel sheet\n",
    "df.to_excel(\"cleaned_data.xlsx\") "
   ]
  }
 ],
 "metadata": {
  "kernelspec": {
   "display_name": "python keras-env",
   "language": "python",
   "name": "keras-env"
  },
  "language_info": {
   "codemirror_mode": {
    "name": "ipython",
    "version": 3
   },
   "file_extension": ".py",
   "mimetype": "text/x-python",
   "name": "python",
   "nbconvert_exporter": "python",
   "pygments_lexer": "ipython3",
   "version": "3.11.5"
  },
  "panel-cell-order": [
   "0b830328",
   "9ba3e23c-0a24-4eb0-9e91-16dd07a01313",
   "36c27b53-972c-4f60-ad84-2f225bbea781",
   "8885c27b",
   "c8dae57b-b5dc-4701-b204-efc724c59d58",
   "1a839729-685e-473f-8e98-ac0cb9b46fa9",
   "16326e5d-23a3-40d5-8eb5-678ce34c3cb0",
   "dcaeda39-5e5e-4d63-964b-a8e641f21097",
   "af75bbe5-58a3-4c8b-8395-2acca17916be",
   "a717eeb7-1aec-47d7-af41-8f554de9df3f",
   "9cf6a93f-e4b1-49ed-9c61-1fbb439ceaf5",
   "5e3b4175-8a3b-4d79-b882-88a3d787579a",
   "528309be-6b1c-4db6-9b53-9584fe43a201",
   "64a20990-1624-410d-a27d-10369b603868",
   "6077ba68-e1b2-4775-8dfe-00e8681447ce",
   "d64e4048-80f0-4bc2-a1ce-8a7d1c44e9eb",
   "40cd284e-696d-4db7-95b6-844d6f40cccd",
   "b2d175dd-8959-4df0-93a2-e8a0d92ae779",
   "404e25a9-61de-40ab-b3a7-38284ce6fce3",
   "217b0a8e-ea42-417f-b138-651dda67a9e4",
   "ff449cf3-4e00-4d55-b0a8-98c265b87670",
   "a19a50de-adb6-429b-89d4-673b93c1d96c",
   "63216c95-9269-44b9-943f-f5201c10aaef",
   "3ffa9378-6ccd-4c24-b398-215647f8d7e1",
   "8ee59fae-cfec-427d-b3d8-29393759ea91",
   "ceae4263-24f3-4454-a3b4-61557bfa0bbe",
   "1888dda4-16c9-4657-8efc-be1e6658469f",
   "f855f773-59c7-4270-9464-0dc728ae7990",
   "ae31f1de-848c-471e-b94b-396aff4c76c1",
   "eec7be18-0b1b-4319-90b8-dd8761d08424",
   "6895eff3-e87a-45fc-887a-768894c2ec63",
   "30787034-a307-48d9-9663-45ac04b3e45c",
   "7c562a75-ab24-4f81-b43e-7e17f8693496",
   "9d17e34a-8d96-4e54-af4a-ab6f3334d900",
   "17d74187-b8f3-454b-bfa4-cbf73b3c3e3e",
   "dcc80b6f-3e17-4ee9-bb86-d2baad2559b7",
   "b6116ee0-7011-4fb6-9053-707d5428ec55",
   "d93d4d04-4620-4765-ab77-0b3ac08cf011",
   "78871880-f7ae-472c-a87f-7198ee65c90e",
   "44c0a103-4641-45b3-999a-6aec77f1f3a8",
   "9b58a2d8-d980-4616-93c1-1262774138a3",
   "86990ef6-b81d-46f9-925d-3bf028a57588",
   "cdf2fde2-8484-4931-bb2c-92fc8f9bbfc4",
   "e4e764d4-4ade-4ee3-bcac-d3ac36cd6d93"
  ]
 },
 "nbformat": 4,
 "nbformat_minor": 5
}
